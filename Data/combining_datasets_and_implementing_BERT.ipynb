{
  "nbformat": 4,
  "nbformat_minor": 0,
  "metadata": {
    "kernelspec": {
      "display_name": "Python 3",
      "language": "python",
      "name": "python3"
    },
    "language_info": {
      "codemirror_mode": {
        "name": "ipython",
        "version": 3
      },
      "file_extension": ".py",
      "mimetype": "text/x-python",
      "name": "python",
      "nbconvert_exporter": "python",
      "pygments_lexer": "ipython3",
      "version": "3.7.6"
    },
    "colab": {
      "name": "combining datasets and implementing BERT.ipynb",
      "provenance": [],
      "include_colab_link": true
    },
    "widgets": {
      "application/vnd.jupyter.widget-state+json": {
        "ac3b0b81bcf343d484c6027d5e1cbc37": {
          "model_module": "@jupyter-widgets/controls",
          "model_name": "HBoxModel",
          "state": {
            "_view_name": "HBoxView",
            "_dom_classes": [],
            "_model_name": "HBoxModel",
            "_view_module": "@jupyter-widgets/controls",
            "_model_module_version": "1.5.0",
            "_view_count": null,
            "_view_module_version": "1.5.0",
            "box_style": "",
            "layout": "IPY_MODEL_fdfbd0adae8e42bd93c12fe24b0b3209",
            "_model_module": "@jupyter-widgets/controls",
            "children": [
              "IPY_MODEL_260a95278b1541599517bbba99f37ed3",
              "IPY_MODEL_2f0685219dc246fb84172648d3e870f5"
            ]
          }
        },
        "fdfbd0adae8e42bd93c12fe24b0b3209": {
          "model_module": "@jupyter-widgets/base",
          "model_name": "LayoutModel",
          "state": {
            "_view_name": "LayoutView",
            "grid_template_rows": null,
            "right": null,
            "justify_content": null,
            "_view_module": "@jupyter-widgets/base",
            "overflow": null,
            "_model_module_version": "1.2.0",
            "_view_count": null,
            "flex_flow": null,
            "width": null,
            "min_width": null,
            "border": null,
            "align_items": null,
            "bottom": null,
            "_model_module": "@jupyter-widgets/base",
            "top": null,
            "grid_column": null,
            "overflow_y": null,
            "overflow_x": null,
            "grid_auto_flow": null,
            "grid_area": null,
            "grid_template_columns": null,
            "flex": null,
            "_model_name": "LayoutModel",
            "justify_items": null,
            "grid_row": null,
            "max_height": null,
            "align_content": null,
            "visibility": null,
            "align_self": null,
            "height": null,
            "min_height": null,
            "padding": null,
            "grid_auto_rows": null,
            "grid_gap": null,
            "max_width": null,
            "order": null,
            "_view_module_version": "1.2.0",
            "grid_template_areas": null,
            "object_position": null,
            "object_fit": null,
            "grid_auto_columns": null,
            "margin": null,
            "display": null,
            "left": null
          }
        },
        "260a95278b1541599517bbba99f37ed3": {
          "model_module": "@jupyter-widgets/controls",
          "model_name": "FloatProgressModel",
          "state": {
            "_view_name": "ProgressView",
            "style": "IPY_MODEL_f79d386d271d4e9f8612dfe505c738ae",
            "_dom_classes": [],
            "description": "Downloading: 100%",
            "_model_name": "FloatProgressModel",
            "bar_style": "success",
            "max": 231508,
            "_view_module": "@jupyter-widgets/controls",
            "_model_module_version": "1.5.0",
            "value": 231508,
            "_view_count": null,
            "_view_module_version": "1.5.0",
            "orientation": "horizontal",
            "min": 0,
            "description_tooltip": null,
            "_model_module": "@jupyter-widgets/controls",
            "layout": "IPY_MODEL_7a769a0903d64f00a940c39cea317c6d"
          }
        },
        "2f0685219dc246fb84172648d3e870f5": {
          "model_module": "@jupyter-widgets/controls",
          "model_name": "HTMLModel",
          "state": {
            "_view_name": "HTMLView",
            "style": "IPY_MODEL_bbfe689a800f44c3a1cc3f81fdb3a71a",
            "_dom_classes": [],
            "description": "",
            "_model_name": "HTMLModel",
            "placeholder": "​",
            "_view_module": "@jupyter-widgets/controls",
            "_model_module_version": "1.5.0",
            "value": " 232k/232k [00:00&lt;00:00, 658kB/s]",
            "_view_count": null,
            "_view_module_version": "1.5.0",
            "description_tooltip": null,
            "_model_module": "@jupyter-widgets/controls",
            "layout": "IPY_MODEL_a2f9aaee318f4e028107ea8f6a36fb25"
          }
        },
        "f79d386d271d4e9f8612dfe505c738ae": {
          "model_module": "@jupyter-widgets/controls",
          "model_name": "ProgressStyleModel",
          "state": {
            "_view_name": "StyleView",
            "_model_name": "ProgressStyleModel",
            "description_width": "initial",
            "_view_module": "@jupyter-widgets/base",
            "_model_module_version": "1.5.0",
            "_view_count": null,
            "_view_module_version": "1.2.0",
            "bar_color": null,
            "_model_module": "@jupyter-widgets/controls"
          }
        },
        "7a769a0903d64f00a940c39cea317c6d": {
          "model_module": "@jupyter-widgets/base",
          "model_name": "LayoutModel",
          "state": {
            "_view_name": "LayoutView",
            "grid_template_rows": null,
            "right": null,
            "justify_content": null,
            "_view_module": "@jupyter-widgets/base",
            "overflow": null,
            "_model_module_version": "1.2.0",
            "_view_count": null,
            "flex_flow": null,
            "width": null,
            "min_width": null,
            "border": null,
            "align_items": null,
            "bottom": null,
            "_model_module": "@jupyter-widgets/base",
            "top": null,
            "grid_column": null,
            "overflow_y": null,
            "overflow_x": null,
            "grid_auto_flow": null,
            "grid_area": null,
            "grid_template_columns": null,
            "flex": null,
            "_model_name": "LayoutModel",
            "justify_items": null,
            "grid_row": null,
            "max_height": null,
            "align_content": null,
            "visibility": null,
            "align_self": null,
            "height": null,
            "min_height": null,
            "padding": null,
            "grid_auto_rows": null,
            "grid_gap": null,
            "max_width": null,
            "order": null,
            "_view_module_version": "1.2.0",
            "grid_template_areas": null,
            "object_position": null,
            "object_fit": null,
            "grid_auto_columns": null,
            "margin": null,
            "display": null,
            "left": null
          }
        },
        "bbfe689a800f44c3a1cc3f81fdb3a71a": {
          "model_module": "@jupyter-widgets/controls",
          "model_name": "DescriptionStyleModel",
          "state": {
            "_view_name": "StyleView",
            "_model_name": "DescriptionStyleModel",
            "description_width": "",
            "_view_module": "@jupyter-widgets/base",
            "_model_module_version": "1.5.0",
            "_view_count": null,
            "_view_module_version": "1.2.0",
            "_model_module": "@jupyter-widgets/controls"
          }
        },
        "a2f9aaee318f4e028107ea8f6a36fb25": {
          "model_module": "@jupyter-widgets/base",
          "model_name": "LayoutModel",
          "state": {
            "_view_name": "LayoutView",
            "grid_template_rows": null,
            "right": null,
            "justify_content": null,
            "_view_module": "@jupyter-widgets/base",
            "overflow": null,
            "_model_module_version": "1.2.0",
            "_view_count": null,
            "flex_flow": null,
            "width": null,
            "min_width": null,
            "border": null,
            "align_items": null,
            "bottom": null,
            "_model_module": "@jupyter-widgets/base",
            "top": null,
            "grid_column": null,
            "overflow_y": null,
            "overflow_x": null,
            "grid_auto_flow": null,
            "grid_area": null,
            "grid_template_columns": null,
            "flex": null,
            "_model_name": "LayoutModel",
            "justify_items": null,
            "grid_row": null,
            "max_height": null,
            "align_content": null,
            "visibility": null,
            "align_self": null,
            "height": null,
            "min_height": null,
            "padding": null,
            "grid_auto_rows": null,
            "grid_gap": null,
            "max_width": null,
            "order": null,
            "_view_module_version": "1.2.0",
            "grid_template_areas": null,
            "object_position": null,
            "object_fit": null,
            "grid_auto_columns": null,
            "margin": null,
            "display": null,
            "left": null
          }
        },
        "48fb74110f464197be7ca09265c949fc": {
          "model_module": "@jupyter-widgets/controls",
          "model_name": "HBoxModel",
          "state": {
            "_view_name": "HBoxView",
            "_dom_classes": [],
            "_model_name": "HBoxModel",
            "_view_module": "@jupyter-widgets/controls",
            "_model_module_version": "1.5.0",
            "_view_count": null,
            "_view_module_version": "1.5.0",
            "box_style": "",
            "layout": "IPY_MODEL_a3e4697e97e74caab0b79ded672c4f40",
            "_model_module": "@jupyter-widgets/controls",
            "children": [
              "IPY_MODEL_b5084d202be643ffa8129baedbb44cf2",
              "IPY_MODEL_b7d2754dadb44e89bf29adf94b59d749"
            ]
          }
        },
        "a3e4697e97e74caab0b79ded672c4f40": {
          "model_module": "@jupyter-widgets/base",
          "model_name": "LayoutModel",
          "state": {
            "_view_name": "LayoutView",
            "grid_template_rows": null,
            "right": null,
            "justify_content": null,
            "_view_module": "@jupyter-widgets/base",
            "overflow": null,
            "_model_module_version": "1.2.0",
            "_view_count": null,
            "flex_flow": null,
            "width": null,
            "min_width": null,
            "border": null,
            "align_items": null,
            "bottom": null,
            "_model_module": "@jupyter-widgets/base",
            "top": null,
            "grid_column": null,
            "overflow_y": null,
            "overflow_x": null,
            "grid_auto_flow": null,
            "grid_area": null,
            "grid_template_columns": null,
            "flex": null,
            "_model_name": "LayoutModel",
            "justify_items": null,
            "grid_row": null,
            "max_height": null,
            "align_content": null,
            "visibility": null,
            "align_self": null,
            "height": null,
            "min_height": null,
            "padding": null,
            "grid_auto_rows": null,
            "grid_gap": null,
            "max_width": null,
            "order": null,
            "_view_module_version": "1.2.0",
            "grid_template_areas": null,
            "object_position": null,
            "object_fit": null,
            "grid_auto_columns": null,
            "margin": null,
            "display": null,
            "left": null
          }
        },
        "b5084d202be643ffa8129baedbb44cf2": {
          "model_module": "@jupyter-widgets/controls",
          "model_name": "FloatProgressModel",
          "state": {
            "_view_name": "ProgressView",
            "style": "IPY_MODEL_d3206debfe814cfbb875f199c78a1b1a",
            "_dom_classes": [],
            "description": "Downloading: 100%",
            "_model_name": "FloatProgressModel",
            "bar_style": "success",
            "max": 442,
            "_view_module": "@jupyter-widgets/controls",
            "_model_module_version": "1.5.0",
            "value": 442,
            "_view_count": null,
            "_view_module_version": "1.5.0",
            "orientation": "horizontal",
            "min": 0,
            "description_tooltip": null,
            "_model_module": "@jupyter-widgets/controls",
            "layout": "IPY_MODEL_061f9dad6da14385906caa785641ac98"
          }
        },
        "b7d2754dadb44e89bf29adf94b59d749": {
          "model_module": "@jupyter-widgets/controls",
          "model_name": "HTMLModel",
          "state": {
            "_view_name": "HTMLView",
            "style": "IPY_MODEL_8c7a578cfe494122934bb745141268e9",
            "_dom_classes": [],
            "description": "",
            "_model_name": "HTMLModel",
            "placeholder": "​",
            "_view_module": "@jupyter-widgets/controls",
            "_model_module_version": "1.5.0",
            "value": " 442/442 [00:05&lt;00:00, 80.6B/s]",
            "_view_count": null,
            "_view_module_version": "1.5.0",
            "description_tooltip": null,
            "_model_module": "@jupyter-widgets/controls",
            "layout": "IPY_MODEL_8a72cc73edd34c69ae0b7babed33e6a4"
          }
        },
        "d3206debfe814cfbb875f199c78a1b1a": {
          "model_module": "@jupyter-widgets/controls",
          "model_name": "ProgressStyleModel",
          "state": {
            "_view_name": "StyleView",
            "_model_name": "ProgressStyleModel",
            "description_width": "initial",
            "_view_module": "@jupyter-widgets/base",
            "_model_module_version": "1.5.0",
            "_view_count": null,
            "_view_module_version": "1.2.0",
            "bar_color": null,
            "_model_module": "@jupyter-widgets/controls"
          }
        },
        "061f9dad6da14385906caa785641ac98": {
          "model_module": "@jupyter-widgets/base",
          "model_name": "LayoutModel",
          "state": {
            "_view_name": "LayoutView",
            "grid_template_rows": null,
            "right": null,
            "justify_content": null,
            "_view_module": "@jupyter-widgets/base",
            "overflow": null,
            "_model_module_version": "1.2.0",
            "_view_count": null,
            "flex_flow": null,
            "width": null,
            "min_width": null,
            "border": null,
            "align_items": null,
            "bottom": null,
            "_model_module": "@jupyter-widgets/base",
            "top": null,
            "grid_column": null,
            "overflow_y": null,
            "overflow_x": null,
            "grid_auto_flow": null,
            "grid_area": null,
            "grid_template_columns": null,
            "flex": null,
            "_model_name": "LayoutModel",
            "justify_items": null,
            "grid_row": null,
            "max_height": null,
            "align_content": null,
            "visibility": null,
            "align_self": null,
            "height": null,
            "min_height": null,
            "padding": null,
            "grid_auto_rows": null,
            "grid_gap": null,
            "max_width": null,
            "order": null,
            "_view_module_version": "1.2.0",
            "grid_template_areas": null,
            "object_position": null,
            "object_fit": null,
            "grid_auto_columns": null,
            "margin": null,
            "display": null,
            "left": null
          }
        },
        "8c7a578cfe494122934bb745141268e9": {
          "model_module": "@jupyter-widgets/controls",
          "model_name": "DescriptionStyleModel",
          "state": {
            "_view_name": "StyleView",
            "_model_name": "DescriptionStyleModel",
            "description_width": "",
            "_view_module": "@jupyter-widgets/base",
            "_model_module_version": "1.5.0",
            "_view_count": null,
            "_view_module_version": "1.2.0",
            "_model_module": "@jupyter-widgets/controls"
          }
        },
        "8a72cc73edd34c69ae0b7babed33e6a4": {
          "model_module": "@jupyter-widgets/base",
          "model_name": "LayoutModel",
          "state": {
            "_view_name": "LayoutView",
            "grid_template_rows": null,
            "right": null,
            "justify_content": null,
            "_view_module": "@jupyter-widgets/base",
            "overflow": null,
            "_model_module_version": "1.2.0",
            "_view_count": null,
            "flex_flow": null,
            "width": null,
            "min_width": null,
            "border": null,
            "align_items": null,
            "bottom": null,
            "_model_module": "@jupyter-widgets/base",
            "top": null,
            "grid_column": null,
            "overflow_y": null,
            "overflow_x": null,
            "grid_auto_flow": null,
            "grid_area": null,
            "grid_template_columns": null,
            "flex": null,
            "_model_name": "LayoutModel",
            "justify_items": null,
            "grid_row": null,
            "max_height": null,
            "align_content": null,
            "visibility": null,
            "align_self": null,
            "height": null,
            "min_height": null,
            "padding": null,
            "grid_auto_rows": null,
            "grid_gap": null,
            "max_width": null,
            "order": null,
            "_view_module_version": "1.2.0",
            "grid_template_areas": null,
            "object_position": null,
            "object_fit": null,
            "grid_auto_columns": null,
            "margin": null,
            "display": null,
            "left": null
          }
        },
        "1820b2c796fd48d8a9f0a320fc8672ab": {
          "model_module": "@jupyter-widgets/controls",
          "model_name": "HBoxModel",
          "state": {
            "_view_name": "HBoxView",
            "_dom_classes": [],
            "_model_name": "HBoxModel",
            "_view_module": "@jupyter-widgets/controls",
            "_model_module_version": "1.5.0",
            "_view_count": null,
            "_view_module_version": "1.5.0",
            "box_style": "",
            "layout": "IPY_MODEL_735d14bb415d42cb996f7af4ce824e85",
            "_model_module": "@jupyter-widgets/controls",
            "children": [
              "IPY_MODEL_b2cf56cf40924a7390ed00fa91cf95f3",
              "IPY_MODEL_3836da3174b94daba6e620852dc3c83f"
            ]
          }
        },
        "735d14bb415d42cb996f7af4ce824e85": {
          "model_module": "@jupyter-widgets/base",
          "model_name": "LayoutModel",
          "state": {
            "_view_name": "LayoutView",
            "grid_template_rows": null,
            "right": null,
            "justify_content": null,
            "_view_module": "@jupyter-widgets/base",
            "overflow": null,
            "_model_module_version": "1.2.0",
            "_view_count": null,
            "flex_flow": null,
            "width": null,
            "min_width": null,
            "border": null,
            "align_items": null,
            "bottom": null,
            "_model_module": "@jupyter-widgets/base",
            "top": null,
            "grid_column": null,
            "overflow_y": null,
            "overflow_x": null,
            "grid_auto_flow": null,
            "grid_area": null,
            "grid_template_columns": null,
            "flex": null,
            "_model_name": "LayoutModel",
            "justify_items": null,
            "grid_row": null,
            "max_height": null,
            "align_content": null,
            "visibility": null,
            "align_self": null,
            "height": null,
            "min_height": null,
            "padding": null,
            "grid_auto_rows": null,
            "grid_gap": null,
            "max_width": null,
            "order": null,
            "_view_module_version": "1.2.0",
            "grid_template_areas": null,
            "object_position": null,
            "object_fit": null,
            "grid_auto_columns": null,
            "margin": null,
            "display": null,
            "left": null
          }
        },
        "b2cf56cf40924a7390ed00fa91cf95f3": {
          "model_module": "@jupyter-widgets/controls",
          "model_name": "FloatProgressModel",
          "state": {
            "_view_name": "ProgressView",
            "style": "IPY_MODEL_fb1c75e530a1499ebfb513c057d69ffd",
            "_dom_classes": [],
            "description": "Downloading: 100%",
            "_model_name": "FloatProgressModel",
            "bar_style": "success",
            "max": 267967963,
            "_view_module": "@jupyter-widgets/controls",
            "_model_module_version": "1.5.0",
            "value": 267967963,
            "_view_count": null,
            "_view_module_version": "1.5.0",
            "orientation": "horizontal",
            "min": 0,
            "description_tooltip": null,
            "_model_module": "@jupyter-widgets/controls",
            "layout": "IPY_MODEL_fb464ccb36e8444fac5ed3f29e313c67"
          }
        },
        "3836da3174b94daba6e620852dc3c83f": {
          "model_module": "@jupyter-widgets/controls",
          "model_name": "HTMLModel",
          "state": {
            "_view_name": "HTMLView",
            "style": "IPY_MODEL_2c0c912e42514c959c31704a2752f795",
            "_dom_classes": [],
            "description": "",
            "_model_name": "HTMLModel",
            "placeholder": "​",
            "_view_module": "@jupyter-widgets/controls",
            "_model_module_version": "1.5.0",
            "value": " 268M/268M [00:05&lt;00:00, 50.3MB/s]",
            "_view_count": null,
            "_view_module_version": "1.5.0",
            "description_tooltip": null,
            "_model_module": "@jupyter-widgets/controls",
            "layout": "IPY_MODEL_118fe0f279e44025b85b521f8f545834"
          }
        },
        "fb1c75e530a1499ebfb513c057d69ffd": {
          "model_module": "@jupyter-widgets/controls",
          "model_name": "ProgressStyleModel",
          "state": {
            "_view_name": "StyleView",
            "_model_name": "ProgressStyleModel",
            "description_width": "initial",
            "_view_module": "@jupyter-widgets/base",
            "_model_module_version": "1.5.0",
            "_view_count": null,
            "_view_module_version": "1.2.0",
            "bar_color": null,
            "_model_module": "@jupyter-widgets/controls"
          }
        },
        "fb464ccb36e8444fac5ed3f29e313c67": {
          "model_module": "@jupyter-widgets/base",
          "model_name": "LayoutModel",
          "state": {
            "_view_name": "LayoutView",
            "grid_template_rows": null,
            "right": null,
            "justify_content": null,
            "_view_module": "@jupyter-widgets/base",
            "overflow": null,
            "_model_module_version": "1.2.0",
            "_view_count": null,
            "flex_flow": null,
            "width": null,
            "min_width": null,
            "border": null,
            "align_items": null,
            "bottom": null,
            "_model_module": "@jupyter-widgets/base",
            "top": null,
            "grid_column": null,
            "overflow_y": null,
            "overflow_x": null,
            "grid_auto_flow": null,
            "grid_area": null,
            "grid_template_columns": null,
            "flex": null,
            "_model_name": "LayoutModel",
            "justify_items": null,
            "grid_row": null,
            "max_height": null,
            "align_content": null,
            "visibility": null,
            "align_self": null,
            "height": null,
            "min_height": null,
            "padding": null,
            "grid_auto_rows": null,
            "grid_gap": null,
            "max_width": null,
            "order": null,
            "_view_module_version": "1.2.0",
            "grid_template_areas": null,
            "object_position": null,
            "object_fit": null,
            "grid_auto_columns": null,
            "margin": null,
            "display": null,
            "left": null
          }
        },
        "2c0c912e42514c959c31704a2752f795": {
          "model_module": "@jupyter-widgets/controls",
          "model_name": "DescriptionStyleModel",
          "state": {
            "_view_name": "StyleView",
            "_model_name": "DescriptionStyleModel",
            "description_width": "",
            "_view_module": "@jupyter-widgets/base",
            "_model_module_version": "1.5.0",
            "_view_count": null,
            "_view_module_version": "1.2.0",
            "_model_module": "@jupyter-widgets/controls"
          }
        },
        "118fe0f279e44025b85b521f8f545834": {
          "model_module": "@jupyter-widgets/base",
          "model_name": "LayoutModel",
          "state": {
            "_view_name": "LayoutView",
            "grid_template_rows": null,
            "right": null,
            "justify_content": null,
            "_view_module": "@jupyter-widgets/base",
            "overflow": null,
            "_model_module_version": "1.2.0",
            "_view_count": null,
            "flex_flow": null,
            "width": null,
            "min_width": null,
            "border": null,
            "align_items": null,
            "bottom": null,
            "_model_module": "@jupyter-widgets/base",
            "top": null,
            "grid_column": null,
            "overflow_y": null,
            "overflow_x": null,
            "grid_auto_flow": null,
            "grid_area": null,
            "grid_template_columns": null,
            "flex": null,
            "_model_name": "LayoutModel",
            "justify_items": null,
            "grid_row": null,
            "max_height": null,
            "align_content": null,
            "visibility": null,
            "align_self": null,
            "height": null,
            "min_height": null,
            "padding": null,
            "grid_auto_rows": null,
            "grid_gap": null,
            "max_width": null,
            "order": null,
            "_view_module_version": "1.2.0",
            "grid_template_areas": null,
            "object_position": null,
            "object_fit": null,
            "grid_auto_columns": null,
            "margin": null,
            "display": null,
            "left": null
          }
        }
      }
    }
  },
  "cells": [
    {
      "cell_type": "markdown",
      "metadata": {
        "id": "view-in-github",
        "colab_type": "text"
      },
      "source": [
        "<a href=\"https://colab.research.google.com/github/ridhijs/STEM-Away-MLTeam7/blob/MLTeam7c/Data/combining_datasets_and_implementing_BERT.ipynb\" target=\"_parent\"><img src=\"https://colab.research.google.com/assets/colab-badge.svg\" alt=\"Open In Colab\"/></a>"
      ]
    },
    {
      "cell_type": "code",
      "metadata": {
        "id": "62dWedOL20HR",
        "colab_type": "code",
        "colab": {
          "base_uri": "https://localhost:8080/",
          "height": 608
        },
        "outputId": "d945e691-43a2-4e04-ef15-31d0825810b4"
      },
      "source": [
        "!pip install transformers"
      ],
      "execution_count": 1,
      "outputs": [
        {
          "output_type": "stream",
          "text": [
            "Collecting transformers\n",
            "\u001b[?25l  Downloading https://files.pythonhosted.org/packages/9c/35/1c3f6e62d81f5f0daff1384e6d5e6c5758682a8357ebc765ece2b9def62b/transformers-3.0.0-py3-none-any.whl (754kB)\n",
            "\u001b[K     |████████████████████████████████| 757kB 5.2MB/s \n",
            "\u001b[?25hCollecting sacremoses\n",
            "\u001b[?25l  Downloading https://files.pythonhosted.org/packages/7d/34/09d19aff26edcc8eb2a01bed8e98f13a1537005d31e95233fd48216eed10/sacremoses-0.0.43.tar.gz (883kB)\n",
            "\u001b[K     |████████████████████████████████| 890kB 17.4MB/s \n",
            "\u001b[?25hRequirement already satisfied: requests in /usr/local/lib/python3.6/dist-packages (from transformers) (2.23.0)\n",
            "Requirement already satisfied: packaging in /usr/local/lib/python3.6/dist-packages (from transformers) (20.4)\n",
            "Collecting sentencepiece\n",
            "\u001b[?25l  Downloading https://files.pythonhosted.org/packages/d4/a4/d0a884c4300004a78cca907a6ff9a5e9fe4f090f5d95ab341c53d28cbc58/sentencepiece-0.1.91-cp36-cp36m-manylinux1_x86_64.whl (1.1MB)\n",
            "\u001b[K     |████████████████████████████████| 1.1MB 32.6MB/s \n",
            "\u001b[?25hRequirement already satisfied: filelock in /usr/local/lib/python3.6/dist-packages (from transformers) (3.0.12)\n",
            "Requirement already satisfied: tqdm>=4.27 in /usr/local/lib/python3.6/dist-packages (from transformers) (4.41.1)\n",
            "Requirement already satisfied: regex!=2019.12.17 in /usr/local/lib/python3.6/dist-packages (from transformers) (2019.12.20)\n",
            "Requirement already satisfied: numpy in /usr/local/lib/python3.6/dist-packages (from transformers) (1.18.5)\n",
            "Requirement already satisfied: dataclasses; python_version < \"3.7\" in /usr/local/lib/python3.6/dist-packages (from transformers) (0.7)\n",
            "Collecting tokenizers==0.8.0-rc4\n",
            "\u001b[?25l  Downloading https://files.pythonhosted.org/packages/e8/bd/e5abec46af977c8a1375c1dca7cb1e5b3ec392ef279067af7f6bc50491a0/tokenizers-0.8.0rc4-cp36-cp36m-manylinux1_x86_64.whl (3.0MB)\n",
            "\u001b[K     |████████████████████████████████| 3.0MB 50.4MB/s \n",
            "\u001b[?25hRequirement already satisfied: six in /usr/local/lib/python3.6/dist-packages (from sacremoses->transformers) (1.12.0)\n",
            "Requirement already satisfied: click in /usr/local/lib/python3.6/dist-packages (from sacremoses->transformers) (7.1.2)\n",
            "Requirement already satisfied: joblib in /usr/local/lib/python3.6/dist-packages (from sacremoses->transformers) (0.15.1)\n",
            "Requirement already satisfied: chardet<4,>=3.0.2 in /usr/local/lib/python3.6/dist-packages (from requests->transformers) (3.0.4)\n",
            "Requirement already satisfied: urllib3!=1.25.0,!=1.25.1,<1.26,>=1.21.1 in /usr/local/lib/python3.6/dist-packages (from requests->transformers) (1.24.3)\n",
            "Requirement already satisfied: idna<3,>=2.5 in /usr/local/lib/python3.6/dist-packages (from requests->transformers) (2.9)\n",
            "Requirement already satisfied: certifi>=2017.4.17 in /usr/local/lib/python3.6/dist-packages (from requests->transformers) (2020.6.20)\n",
            "Requirement already satisfied: pyparsing>=2.0.2 in /usr/local/lib/python3.6/dist-packages (from packaging->transformers) (2.4.7)\n",
            "Building wheels for collected packages: sacremoses\n",
            "  Building wheel for sacremoses (setup.py) ... \u001b[?25l\u001b[?25hdone\n",
            "  Created wheel for sacremoses: filename=sacremoses-0.0.43-cp36-none-any.whl size=893260 sha256=34e7fc1c15f8bf700c956f3d1a61a6a835210b3ff192feef4bdb08aa5d68d3fc\n",
            "  Stored in directory: /root/.cache/pip/wheels/29/3c/fd/7ce5c3f0666dab31a50123635e6fb5e19ceb42ce38d4e58f45\n",
            "Successfully built sacremoses\n",
            "Installing collected packages: sacremoses, sentencepiece, tokenizers, transformers\n",
            "Successfully installed sacremoses-0.0.43 sentencepiece-0.1.91 tokenizers-0.8.0rc4 transformers-3.0.0\n"
          ],
          "name": "stdout"
        }
      ]
    },
    {
      "cell_type": "code",
      "metadata": {
        "id": "RQEhkNEYmMBR",
        "colab_type": "code",
        "colab": {}
      },
      "source": [
        "import pandas as pd\n",
        "import numpy as np\n",
        "import torch\n",
        "import transformers as ppb\n",
        "import warnings\n",
        "warnings.filterwarnings('ignore')\n",
        "\n",
        "from sklearn.model_selection import train_test_split\n",
        "from sklearn.linear_model import LogisticRegression\n",
        "from sklearn.model_selection import cross_val_score\n",
        "\n",
        "from transformers import DistilBertTokenizer"
      ],
      "execution_count": 2,
      "outputs": []
    },
    {
      "cell_type": "code",
      "metadata": {
        "id": "o4KI-ggemMBV",
        "colab_type": "code",
        "colab": {}
      },
      "source": [
        "#load in all the files\n",
        "\n",
        "df_7c_1 = pd.read_csv('https://raw.githubusercontent.com/ridhijs/STEM-Away-MLTeam7/0c760690c8098d54c8e18465a3583f493b349260/Data/DF1_team7c.csv')\n",
        "df_7c_2 = pd.read_csv('https://raw.githubusercontent.com/ridhijs/STEM-Away-MLTeam7/0c760690c8098d54c8e18465a3583f493b349260/Data/DF2_team7c.csv')"
      ],
      "execution_count": 3,
      "outputs": []
    },
    {
      "cell_type": "code",
      "metadata": {
        "id": "HorREE1TmMBY",
        "colab_type": "code",
        "colab": {}
      },
      "source": [
        "df_7b_1 = pd.read_csv('https://raw.githubusercontent.com/ridhijs/STEM-Away-MLTeam7/MLteam7b/DF1_team7b.csv')\n",
        "df_7b_2 = pd.read_csv('https://raw.githubusercontent.com/ridhijs/STEM-Away-MLTeam7/MLteam7b/DF2_team7b.csv')"
      ],
      "execution_count": 4,
      "outputs": []
    },
    {
      "cell_type": "code",
      "metadata": {
        "id": "MckMlM51mMBb",
        "colab_type": "code",
        "colab": {}
      },
      "source": [
        "df_7a_1 = pd.read_csv('https://raw.githubusercontent.com/ridhijs/STEM-Away-MLTeam7/mlteam7a/Data/DF1_team7a.csv')\n",
        "df_7a_2 = pd.read_csv('https://raw.githubusercontent.com/ridhijs/STEM-Away-MLTeam7/mlteam7a/Data/DF2_team7a.csv')"
      ],
      "execution_count": 5,
      "outputs": []
    },
    {
      "cell_type": "code",
      "metadata": {
        "id": "yvKlnvvVmMBu",
        "colab_type": "code",
        "colab": {
          "base_uri": "https://localhost:8080/",
          "height": 1000
        },
        "outputId": "8b061e30-f0c0-473d-987b-ddfa40bd8167"
      },
      "source": [
        "#create a new dataframe for the first datasets and use new indexing\n",
        "df_all_data_1 = pd.concat([df_7c_1, df_7b_1, df_7a_1], ignore_index = True)\n",
        "\n",
        "df_all_data_1"
      ],
      "execution_count": 6,
      "outputs": [
        {
          "output_type": "execute_result",
          "data": {
            "text/html": [
              "<div>\n",
              "<style scoped>\n",
              "    .dataframe tbody tr th:only-of-type {\n",
              "        vertical-align: middle;\n",
              "    }\n",
              "\n",
              "    .dataframe tbody tr th {\n",
              "        vertical-align: top;\n",
              "    }\n",
              "\n",
              "    .dataframe thead th {\n",
              "        text-align: right;\n",
              "    }\n",
              "</style>\n",
              "<table border=\"1\" class=\"dataframe\">\n",
              "  <thead>\n",
              "    <tr style=\"text-align: right;\">\n",
              "      <th></th>\n",
              "      <th>Title</th>\n",
              "      <th>Category</th>\n",
              "      <th>Sub-category</th>\n",
              "      <th>Post Text</th>\n",
              "      <th>URL</th>\n",
              "    </tr>\n",
              "  </thead>\n",
              "  <tbody>\n",
              "    <tr>\n",
              "      <th>0</th>\n",
              "      <td>Used Sold As New - Account Review</td>\n",
              "      <td>Account Health</td>\n",
              "      <td>Account Health</td>\n",
              "      <td>Ive reviewed a lot of discussion in this forum...</td>\n",
              "      <td>https://sellercentral.amazon.com/forums/t/used...</td>\n",
              "    </tr>\n",
              "    <tr>\n",
              "      <th>1</th>\n",
              "      <td>Account Suspended After 5 years out of nowhere...</td>\n",
              "      <td>Account Health</td>\n",
              "      <td>Related Accounts</td>\n",
              "      <td>Our brand was suspended about 25 minutes ago. ...</td>\n",
              "      <td>https://sellercentral.amazon.com/forums/t/acco...</td>\n",
              "    </tr>\n",
              "    <tr>\n",
              "      <th>2</th>\n",
              "      <td>Account Suspension after Credit Card Change</td>\n",
              "      <td>Account Health</td>\n",
              "      <td>Account Health</td>\n",
              "      <td>Hello Everyone,\\nI am trying to open an Amazon...</td>\n",
              "      <td>https://sellercentral.amazon.com/forums/t/acco...</td>\n",
              "    </tr>\n",
              "    <tr>\n",
              "      <th>3</th>\n",
              "      <td>Our Seller account has been deactivated</td>\n",
              "      <td>Account Health</td>\n",
              "      <td>Related Accounts</td>\n",
              "      <td>Hi,\\nWe need help. Since last week our seller ...</td>\n",
              "      <td>https://sellercentral.amazon.com/forums/t/our-...</td>\n",
              "    </tr>\n",
              "    <tr>\n",
              "      <th>4</th>\n",
              "      <td>How to Handle Used as New Complaints Version 2</td>\n",
              "      <td>Account Health</td>\n",
              "      <td>Product Condition</td>\n",
              "      <td>This is my second thread regarding used as new...</td>\n",
              "      <td>https://sellercentral.amazon.com/forums/t/how-...</td>\n",
              "    </tr>\n",
              "    <tr>\n",
              "      <th>...</th>\n",
              "      <td>...</td>\n",
              "      <td>...</td>\n",
              "      <td>...</td>\n",
              "      <td>...</td>\n",
              "      <td>...</td>\n",
              "    </tr>\n",
              "    <tr>\n",
              "      <th>1813</th>\n",
              "      <td>Amazon Custom Program</td>\n",
              "      <td>Amazon Custom</td>\n",
              "      <td>Amazon Custom Forum</td>\n",
              "      <td>Are you applying? Dear Seller, Amazon Custom i...</td>\n",
              "      <td>https://sellercentral.amazon.com/forums/t/amaz...</td>\n",
              "    </tr>\n",
              "    <tr>\n",
              "      <th>1814</th>\n",
              "      <td>Just enabled ‘Amazon Custom’ on my products, a...</td>\n",
              "      <td>Amazon Custom</td>\n",
              "      <td>Amazon Custom Forum</td>\n",
              "      <td>Hi there, I just enabled ‘Amazon Custom’ (for ...</td>\n",
              "      <td>https://sellercentral.amazon.com/forums/t/just...</td>\n",
              "    </tr>\n",
              "    <tr>\n",
              "      <th>1815</th>\n",
              "      <td>Amazon Custom - Refunds. To do, or not to do?</td>\n",
              "      <td>Amazon Custom</td>\n",
              "      <td>Amazon Custom Forum</td>\n",
              "      <td>I am an Amazon “Custom” seller. I have had my ...</td>\n",
              "      <td>https://sellercentral.amazon.com/forums/t/amaz...</td>\n",
              "    </tr>\n",
              "    <tr>\n",
              "      <th>1816</th>\n",
              "      <td>Custom Order Feedback</td>\n",
              "      <td>Amazon Custom</td>\n",
              "      <td>Amazon Custom Forum</td>\n",
              "      <td>I sold a custom item recently and was wonderin...</td>\n",
              "      <td>https://sellercentral.amazon.com/forums/t/cust...</td>\n",
              "    </tr>\n",
              "    <tr>\n",
              "      <th>1817</th>\n",
              "      <td>Amazon custom (personalized products) and thir...</td>\n",
              "      <td>Amazon Custom</td>\n",
              "      <td>Amazon Custom Forum</td>\n",
              "      <td>Wondering if anyone who is currently testing o...</td>\n",
              "      <td>https://sellercentral.amazon.com/forums/t/amaz...</td>\n",
              "    </tr>\n",
              "  </tbody>\n",
              "</table>\n",
              "<p>1818 rows × 5 columns</p>\n",
              "</div>"
            ],
            "text/plain": [
              "                                                  Title  ...                                                URL\n",
              "0                     Used Sold As New - Account Review  ...  https://sellercentral.amazon.com/forums/t/used...\n",
              "1     Account Suspended After 5 years out of nowhere...  ...  https://sellercentral.amazon.com/forums/t/acco...\n",
              "2           Account Suspension after Credit Card Change  ...  https://sellercentral.amazon.com/forums/t/acco...\n",
              "3               Our Seller account has been deactivated  ...  https://sellercentral.amazon.com/forums/t/our-...\n",
              "4        How to Handle Used as New Complaints Version 2  ...  https://sellercentral.amazon.com/forums/t/how-...\n",
              "...                                                 ...  ...                                                ...\n",
              "1813                              Amazon Custom Program  ...  https://sellercentral.amazon.com/forums/t/amaz...\n",
              "1814  Just enabled ‘Amazon Custom’ on my products, a...  ...  https://sellercentral.amazon.com/forums/t/just...\n",
              "1815      Amazon Custom - Refunds. To do, or not to do?  ...  https://sellercentral.amazon.com/forums/t/amaz...\n",
              "1816                              Custom Order Feedback  ...  https://sellercentral.amazon.com/forums/t/cust...\n",
              "1817  Amazon custom (personalized products) and thir...  ...  https://sellercentral.amazon.com/forums/t/amaz...\n",
              "\n",
              "[1818 rows x 5 columns]"
            ]
          },
          "metadata": {
            "tags": []
          },
          "execution_count": 6
        }
      ]
    },
    {
      "cell_type": "code",
      "metadata": {
        "id": "6c14Uq2tmMBx",
        "colab_type": "code",
        "colab": {
          "base_uri": "https://localhost:8080/",
          "height": 553
        },
        "outputId": "5e06489f-3036-4fa6-8a9c-9d9e0df5ed6a"
      },
      "source": [
        "#create a new dataframe for the second datasets and use new indexing\n",
        "df_all_data_2 = pd.concat([df_7c_2, df_7b_2, df_7a_2], ignore_index = True)\n",
        "\n",
        "df_all_data_2"
      ],
      "execution_count": 7,
      "outputs": [
        {
          "output_type": "execute_result",
          "data": {
            "text/html": [
              "<div>\n",
              "<style scoped>\n",
              "    .dataframe tbody tr th:only-of-type {\n",
              "        vertical-align: middle;\n",
              "    }\n",
              "\n",
              "    .dataframe tbody tr th {\n",
              "        vertical-align: top;\n",
              "    }\n",
              "\n",
              "    .dataframe thead th {\n",
              "        text-align: right;\n",
              "    }\n",
              "</style>\n",
              "<table border=\"1\" class=\"dataframe\">\n",
              "  <thead>\n",
              "    <tr style=\"text-align: right;\">\n",
              "      <th></th>\n",
              "      <th>URL</th>\n",
              "      <th>Response Text</th>\n",
              "    </tr>\n",
              "  </thead>\n",
              "  <tbody>\n",
              "    <tr>\n",
              "      <th>0</th>\n",
              "      <td>https://sellercentral.amazon.com/forums/t/used...</td>\n",
              "      <td>Tagging @Shelf_Cleaning_Capit, @Susan_Amazon</td>\n",
              "    </tr>\n",
              "    <tr>\n",
              "      <th>1</th>\n",
              "      <td>https://sellercentral.amazon.com/forums/t/used...</td>\n",
              "      <td>Too much irrelevant information in the beginni...</td>\n",
              "    </tr>\n",
              "    <tr>\n",
              "      <th>2</th>\n",
              "      <td>https://sellercentral.amazon.com/forums/t/used...</td>\n",
              "      <td>Thank you for the comment. Just to be clear, t...</td>\n",
              "    </tr>\n",
              "    <tr>\n",
              "      <th>3</th>\n",
              "      <td>https://sellercentral.amazon.com/forums/t/acco...</td>\n",
              "      <td>Do you have any other accounts using your addr...</td>\n",
              "    </tr>\n",
              "    <tr>\n",
              "      <th>4</th>\n",
              "      <td>https://sellercentral.amazon.com/forums/t/acco...</td>\n",
              "      <td>Have the same issue here. Account was deactiva...</td>\n",
              "    </tr>\n",
              "    <tr>\n",
              "      <th>...</th>\n",
              "      <td>...</td>\n",
              "      <td>...</td>\n",
              "    </tr>\n",
              "    <tr>\n",
              "      <th>8225</th>\n",
              "      <td>https://sellercentral.amazon.com/forums/t/amaz...</td>\n",
              "      <td>Thanks for the input. From what I have experie...</td>\n",
              "    </tr>\n",
              "    <tr>\n",
              "      <th>8226</th>\n",
              "      <td>https://sellercentral.amazon.com/forums/t/amaz...</td>\n",
              "      <td>even though custom items cannot be returned as...</td>\n",
              "    </tr>\n",
              "    <tr>\n",
              "      <th>8227</th>\n",
              "      <td>https://sellercentral.amazon.com/forums/t/amaz...</td>\n",
              "      <td>I agree. After this initial learning curve and...</td>\n",
              "    </tr>\n",
              "    <tr>\n",
              "      <th>8228</th>\n",
              "      <td>https://sellercentral.amazon.com/forums/t/cust...</td>\n",
              "      <td>Hey Gravity Glass, Your customer can absolutel...</td>\n",
              "    </tr>\n",
              "    <tr>\n",
              "      <th>8229</th>\n",
              "      <td>https://sellercentral.amazon.com/forums/t/cust...</td>\n",
              "      <td>Great! Thank you for your help!</td>\n",
              "    </tr>\n",
              "  </tbody>\n",
              "</table>\n",
              "<p>8230 rows × 2 columns</p>\n",
              "</div>"
            ],
            "text/plain": [
              "                                                    URL                                      Response Text\n",
              "0     https://sellercentral.amazon.com/forums/t/used...       Tagging @Shelf_Cleaning_Capit, @Susan_Amazon\n",
              "1     https://sellercentral.amazon.com/forums/t/used...  Too much irrelevant information in the beginni...\n",
              "2     https://sellercentral.amazon.com/forums/t/used...  Thank you for the comment. Just to be clear, t...\n",
              "3     https://sellercentral.amazon.com/forums/t/acco...  Do you have any other accounts using your addr...\n",
              "4     https://sellercentral.amazon.com/forums/t/acco...  Have the same issue here. Account was deactiva...\n",
              "...                                                 ...                                                ...\n",
              "8225  https://sellercentral.amazon.com/forums/t/amaz...  Thanks for the input. From what I have experie...\n",
              "8226  https://sellercentral.amazon.com/forums/t/amaz...  even though custom items cannot be returned as...\n",
              "8227  https://sellercentral.amazon.com/forums/t/amaz...  I agree. After this initial learning curve and...\n",
              "8228  https://sellercentral.amazon.com/forums/t/cust...  Hey Gravity Glass, Your customer can absolutel...\n",
              "8229  https://sellercentral.amazon.com/forums/t/cust...                    Great! Thank you for your help!\n",
              "\n",
              "[8230 rows x 2 columns]"
            ]
          },
          "metadata": {
            "tags": []
          },
          "execution_count": 7
        }
      ]
    },
    {
      "cell_type": "code",
      "metadata": {
        "id": "9BK-YSfImMBz",
        "colab_type": "code",
        "colab": {}
      },
      "source": [
        "#drop the null values\n",
        "df_all_data_1 = df_all_data_1.dropna()"
      ],
      "execution_count": 8,
      "outputs": []
    },
    {
      "cell_type": "code",
      "metadata": {
        "id": "RNJ54YGbmMB2",
        "colab_type": "code",
        "colab": {}
      },
      "source": [
        "df_all_data_2 = df_all_data_2.dropna()"
      ],
      "execution_count": 9,
      "outputs": []
    },
    {
      "cell_type": "code",
      "metadata": {
        "id": "Ge3dAWCfmMB4",
        "colab_type": "code",
        "colab": {
          "base_uri": "https://localhost:8080/",
          "height": 402
        },
        "outputId": "68711817-a857-4f88-e280-6b759144837d"
      },
      "source": [
        "#just considering the post text and category of each post\n",
        "subdata1 = df_all_data_1[['Title', 'Category']]\n",
        "\n",
        "subdata1"
      ],
      "execution_count": 10,
      "outputs": [
        {
          "output_type": "execute_result",
          "data": {
            "text/html": [
              "<div>\n",
              "<style scoped>\n",
              "    .dataframe tbody tr th:only-of-type {\n",
              "        vertical-align: middle;\n",
              "    }\n",
              "\n",
              "    .dataframe tbody tr th {\n",
              "        vertical-align: top;\n",
              "    }\n",
              "\n",
              "    .dataframe thead th {\n",
              "        text-align: right;\n",
              "    }\n",
              "</style>\n",
              "<table border=\"1\" class=\"dataframe\">\n",
              "  <thead>\n",
              "    <tr style=\"text-align: right;\">\n",
              "      <th></th>\n",
              "      <th>Title</th>\n",
              "      <th>Category</th>\n",
              "    </tr>\n",
              "  </thead>\n",
              "  <tbody>\n",
              "    <tr>\n",
              "      <th>0</th>\n",
              "      <td>Used Sold As New - Account Review</td>\n",
              "      <td>Account Health</td>\n",
              "    </tr>\n",
              "    <tr>\n",
              "      <th>1</th>\n",
              "      <td>Account Suspended After 5 years out of nowhere...</td>\n",
              "      <td>Account Health</td>\n",
              "    </tr>\n",
              "    <tr>\n",
              "      <th>2</th>\n",
              "      <td>Account Suspension after Credit Card Change</td>\n",
              "      <td>Account Health</td>\n",
              "    </tr>\n",
              "    <tr>\n",
              "      <th>3</th>\n",
              "      <td>Our Seller account has been deactivated</td>\n",
              "      <td>Account Health</td>\n",
              "    </tr>\n",
              "    <tr>\n",
              "      <th>4</th>\n",
              "      <td>How to Handle Used as New Complaints Version 2</td>\n",
              "      <td>Account Health</td>\n",
              "    </tr>\n",
              "    <tr>\n",
              "      <th>...</th>\n",
              "      <td>...</td>\n",
              "      <td>...</td>\n",
              "    </tr>\n",
              "    <tr>\n",
              "      <th>1813</th>\n",
              "      <td>Amazon Custom Program</td>\n",
              "      <td>Amazon Custom</td>\n",
              "    </tr>\n",
              "    <tr>\n",
              "      <th>1814</th>\n",
              "      <td>Just enabled ‘Amazon Custom’ on my products, a...</td>\n",
              "      <td>Amazon Custom</td>\n",
              "    </tr>\n",
              "    <tr>\n",
              "      <th>1815</th>\n",
              "      <td>Amazon Custom - Refunds. To do, or not to do?</td>\n",
              "      <td>Amazon Custom</td>\n",
              "    </tr>\n",
              "    <tr>\n",
              "      <th>1816</th>\n",
              "      <td>Custom Order Feedback</td>\n",
              "      <td>Amazon Custom</td>\n",
              "    </tr>\n",
              "    <tr>\n",
              "      <th>1817</th>\n",
              "      <td>Amazon custom (personalized products) and thir...</td>\n",
              "      <td>Amazon Custom</td>\n",
              "    </tr>\n",
              "  </tbody>\n",
              "</table>\n",
              "<p>1815 rows × 2 columns</p>\n",
              "</div>"
            ],
            "text/plain": [
              "                                                  Title        Category\n",
              "0                     Used Sold As New - Account Review  Account Health\n",
              "1     Account Suspended After 5 years out of nowhere...  Account Health\n",
              "2           Account Suspension after Credit Card Change  Account Health\n",
              "3               Our Seller account has been deactivated  Account Health\n",
              "4        How to Handle Used as New Complaints Version 2  Account Health\n",
              "...                                                 ...             ...\n",
              "1813                              Amazon Custom Program   Amazon Custom\n",
              "1814  Just enabled ‘Amazon Custom’ on my products, a...   Amazon Custom\n",
              "1815      Amazon Custom - Refunds. To do, or not to do?   Amazon Custom\n",
              "1816                              Custom Order Feedback   Amazon Custom\n",
              "1817  Amazon custom (personalized products) and thir...   Amazon Custom\n",
              "\n",
              "[1815 rows x 2 columns]"
            ]
          },
          "metadata": {
            "tags": []
          },
          "execution_count": 10
        }
      ]
    },
    {
      "cell_type": "code",
      "metadata": {
        "id": "B56ZCBjCmMB7",
        "colab_type": "code",
        "colab": {}
      },
      "source": [
        "#let's give a label to our categorical data\n",
        "subdata1['Category'] = subdata1['Category'].astype('category')\n",
        "subdata1['Label'] = subdata1['Category'].cat.codes.astype('int32')"
      ],
      "execution_count": 11,
      "outputs": []
    },
    {
      "cell_type": "code",
      "metadata": {
        "id": "mbRHCM_HmMB-",
        "colab_type": "code",
        "colab": {
          "base_uri": "https://localhost:8080/",
          "height": 195
        },
        "outputId": "51bf9611-5ae5-41c3-c419-31c52fa9e478"
      },
      "source": [
        "subdata1.sample(5)"
      ],
      "execution_count": 13,
      "outputs": [
        {
          "output_type": "execute_result",
          "data": {
            "text/html": [
              "<div>\n",
              "<style scoped>\n",
              "    .dataframe tbody tr th:only-of-type {\n",
              "        vertical-align: middle;\n",
              "    }\n",
              "\n",
              "    .dataframe tbody tr th {\n",
              "        vertical-align: top;\n",
              "    }\n",
              "\n",
              "    .dataframe thead th {\n",
              "        text-align: right;\n",
              "    }\n",
              "</style>\n",
              "<table border=\"1\" class=\"dataframe\">\n",
              "  <thead>\n",
              "    <tr style=\"text-align: right;\">\n",
              "      <th></th>\n",
              "      <th>Title</th>\n",
              "      <th>Category</th>\n",
              "      <th>Label</th>\n",
              "    </tr>\n",
              "  </thead>\n",
              "  <tbody>\n",
              "    <tr>\n",
              "      <th>1680</th>\n",
              "      <td>Custom list can not upload image</td>\n",
              "      <td>Amazon Custom</td>\n",
              "      <td>1</td>\n",
              "    </tr>\n",
              "    <tr>\n",
              "      <th>1444</th>\n",
              "      <td>Total BS! Listing removed for being used and s...</td>\n",
              "      <td>Amazon Custom</td>\n",
              "      <td>1</td>\n",
              "    </tr>\n",
              "    <tr>\n",
              "      <th>1701</th>\n",
              "      <td>What do i do if they don’t send the item back?</td>\n",
              "      <td>Amazon Custom</td>\n",
              "      <td>1</td>\n",
              "    </tr>\n",
              "    <tr>\n",
              "      <th>1579</th>\n",
              "      <td>How to validate IP claim for authenticity?</td>\n",
              "      <td>Amazon Custom</td>\n",
              "      <td>1</td>\n",
              "    </tr>\n",
              "    <tr>\n",
              "      <th>117</th>\n",
              "      <td>Account deactivated</td>\n",
              "      <td>Account Health</td>\n",
              "      <td>0</td>\n",
              "    </tr>\n",
              "  </tbody>\n",
              "</table>\n",
              "</div>"
            ],
            "text/plain": [
              "                                                  Title        Category  Label\n",
              "1680                   Custom list can not upload image   Amazon Custom      1\n",
              "1444  Total BS! Listing removed for being used and s...   Amazon Custom      1\n",
              "1701     What do i do if they don’t send the item back?   Amazon Custom      1\n",
              "1579         How to validate IP claim for authenticity?   Amazon Custom      1\n",
              "117                                 Account deactivated  Account Health      0"
            ]
          },
          "metadata": {
            "tags": []
          },
          "execution_count": 13
        }
      ]
    },
    {
      "cell_type": "markdown",
      "metadata": {
        "id": "k-CpWYHrmMCE",
        "colab_type": "text"
      },
      "source": [
        "### DistilBERT"
      ]
    },
    {
      "cell_type": "code",
      "metadata": {
        "id": "ssE2HPZ_mMCF",
        "colab_type": "code",
        "colab": {
          "base_uri": "https://localhost:8080/",
          "height": 163,
          "referenced_widgets": [
            "ac3b0b81bcf343d484c6027d5e1cbc37",
            "fdfbd0adae8e42bd93c12fe24b0b3209",
            "260a95278b1541599517bbba99f37ed3",
            "2f0685219dc246fb84172648d3e870f5",
            "f79d386d271d4e9f8612dfe505c738ae",
            "7a769a0903d64f00a940c39cea317c6d",
            "bbfe689a800f44c3a1cc3f81fdb3a71a",
            "a2f9aaee318f4e028107ea8f6a36fb25",
            "48fb74110f464197be7ca09265c949fc",
            "a3e4697e97e74caab0b79ded672c4f40",
            "b5084d202be643ffa8129baedbb44cf2",
            "b7d2754dadb44e89bf29adf94b59d749",
            "d3206debfe814cfbb875f199c78a1b1a",
            "061f9dad6da14385906caa785641ac98",
            "8c7a578cfe494122934bb745141268e9",
            "8a72cc73edd34c69ae0b7babed33e6a4",
            "1820b2c796fd48d8a9f0a320fc8672ab",
            "735d14bb415d42cb996f7af4ce824e85",
            "b2cf56cf40924a7390ed00fa91cf95f3",
            "3836da3174b94daba6e620852dc3c83f",
            "fb1c75e530a1499ebfb513c057d69ffd",
            "fb464ccb36e8444fac5ed3f29e313c67",
            "2c0c912e42514c959c31704a2752f795",
            "118fe0f279e44025b85b521f8f545834"
          ]
        },
        "outputId": "0a3bb7b6-2dcf-479c-9c69-24d81e41307d"
      },
      "source": [
        "#DistilBert\n",
        "model_class, tokenizer_class, pretrained_weights = (ppb.DistilBertModel, ppb.DistilBertTokenizer, 'distilbert-base-uncased')\n",
        "\n",
        "#load pretrained model/tokenizer\n",
        "tokenizer = tokenizer_class.from_pretrained(pretrained_weights)\n",
        "model = model_class.from_pretrained(pretrained_weights)"
      ],
      "execution_count": 14,
      "outputs": [
        {
          "output_type": "display_data",
          "data": {
            "application/vnd.jupyter.widget-view+json": {
              "model_id": "ac3b0b81bcf343d484c6027d5e1cbc37",
              "version_minor": 0,
              "version_major": 2
            },
            "text/plain": [
              "HBox(children=(FloatProgress(value=0.0, description='Downloading', max=231508.0, style=ProgressStyle(descripti…"
            ]
          },
          "metadata": {
            "tags": []
          }
        },
        {
          "output_type": "stream",
          "text": [
            "\n"
          ],
          "name": "stdout"
        },
        {
          "output_type": "display_data",
          "data": {
            "application/vnd.jupyter.widget-view+json": {
              "model_id": "48fb74110f464197be7ca09265c949fc",
              "version_minor": 0,
              "version_major": 2
            },
            "text/plain": [
              "HBox(children=(FloatProgress(value=0.0, description='Downloading', max=442.0, style=ProgressStyle(description_…"
            ]
          },
          "metadata": {
            "tags": []
          }
        },
        {
          "output_type": "stream",
          "text": [
            "\n"
          ],
          "name": "stdout"
        },
        {
          "output_type": "display_data",
          "data": {
            "application/vnd.jupyter.widget-view+json": {
              "model_id": "1820b2c796fd48d8a9f0a320fc8672ab",
              "version_minor": 0,
              "version_major": 2
            },
            "text/plain": [
              "HBox(children=(FloatProgress(value=0.0, description='Downloading', max=267967963.0, style=ProgressStyle(descri…"
            ]
          },
          "metadata": {
            "tags": []
          }
        },
        {
          "output_type": "stream",
          "text": [
            "\n"
          ],
          "name": "stdout"
        }
      ]
    },
    {
      "cell_type": "markdown",
      "metadata": {
        "id": "fYZ8T_almMCH",
        "colab_type": "text"
      },
      "source": [
        "### Tokenize"
      ]
    },
    {
      "cell_type": "code",
      "metadata": {
        "id": "WBtMVhetmMCH",
        "colab_type": "code",
        "colab": {}
      },
      "source": [
        "#tokenize the post titles\n",
        "tokenized = subdata1['Title'].apply((lambda x: tokenizer.encode(x, add_special_tokens = True)))"
      ],
      "execution_count": 15,
      "outputs": []
    },
    {
      "cell_type": "code",
      "metadata": {
        "id": "IZmli-UtmMCK",
        "colab_type": "code",
        "colab": {
          "base_uri": "https://localhost:8080/",
          "height": 218
        },
        "outputId": "68c8ccb4-4326-4135-e3e3-cd8abf3f3cf2"
      },
      "source": [
        "tokenized"
      ],
      "execution_count": null,
      "outputs": [
        {
          "output_type": "execute_result",
          "data": {
            "text/plain": [
              "0       [101, 4921, 2063, 8182, 1037, 2843, 1997, 6594...\n",
              "1       [101, 2256, 4435, 2001, 6731, 2055, 2423, 2781...\n",
              "2       [101, 7592, 3071, 1010, 1045, 2572, 2667, 2000...\n",
              "3       [101, 7632, 1010, 2057, 2342, 2393, 1012, 2144...\n",
              "4       [101, 2023, 2003, 2026, 2117, 11689, 4953, 210...\n",
              "                              ...                        \n",
              "1813    [101, 2024, 2017, 11243, 1029, 6203, 14939, 10...\n",
              "1814    [101, 7632, 2045, 1010, 1045, 2074, 9124, 1520...\n",
              "1815    [101, 1045, 2572, 2019, 9733, 1523, 7661, 1524...\n",
              "1816    [101, 1045, 2853, 1037, 7661, 8875, 3728, 1998...\n",
              "1817    [101, 6603, 2065, 3087, 2040, 2003, 2747, 5604...\n",
              "Name: Post Text, Length: 1815, dtype: object"
            ]
          },
          "metadata": {
            "tags": []
          },
          "execution_count": 16
        }
      ]
    },
    {
      "cell_type": "markdown",
      "metadata": {
        "id": "nEy-e17FmMCM",
        "colab_type": "text"
      },
      "source": [
        "### Padding"
      ]
    },
    {
      "cell_type": "code",
      "metadata": {
        "id": "eROebtFLmMCM",
        "colab_type": "code",
        "colab": {}
      },
      "source": [
        "#making all the vectors the same size by adding zeroes to the end\n",
        "max_len = 0\n",
        "for i in tokenized.values:\n",
        "    if len(i) > max_len:\n",
        "        max_len = len(i)\n",
        "        \n",
        "padded = np.array([i + [0]*(max_len - len(i)) for i in tokenized.values])"
      ],
      "execution_count": 16,
      "outputs": []
    },
    {
      "cell_type": "code",
      "metadata": {
        "id": "40UXGT86mMCO",
        "colab_type": "code",
        "colab": {
          "base_uri": "https://localhost:8080/",
          "height": 34
        },
        "outputId": "1b113d19-184e-4ccb-b3c9-376626421820"
      },
      "source": [
        "np.array(padded).shape"
      ],
      "execution_count": 17,
      "outputs": [
        {
          "output_type": "execute_result",
          "data": {
            "text/plain": [
              "(1815, 46)"
            ]
          },
          "metadata": {
            "tags": []
          },
          "execution_count": 17
        }
      ]
    },
    {
      "cell_type": "code",
      "metadata": {
        "id": "VC1fX-E_PEVr",
        "colab_type": "code",
        "colab": {
          "base_uri": "https://localhost:8080/",
          "height": 134
        },
        "outputId": "469a9e5c-0887-45ed-e85e-33d714a22b77"
      },
      "source": [
        "padded"
      ],
      "execution_count": 18,
      "outputs": [
        {
          "output_type": "execute_result",
          "data": {
            "text/plain": [
              "array([[ 101, 2109, 2853, ...,    0,    0,    0],\n",
              "       [ 101, 4070, 6731, ...,    0,    0,    0],\n",
              "       [ 101, 4070, 8636, ...,    0,    0,    0],\n",
              "       ...,\n",
              "       [ 101, 9733, 7661, ...,    0,    0,    0],\n",
              "       [ 101, 7661, 2344, ...,    0,    0,    0],\n",
              "       [ 101, 9733, 7661, ...,    0,    0,    0]])"
            ]
          },
          "metadata": {
            "tags": []
          },
          "execution_count": 18
        }
      ]
    },
    {
      "cell_type": "markdown",
      "metadata": {
        "id": "23nvdT7XmMCR",
        "colab_type": "text"
      },
      "source": [
        "### Masking"
      ]
    },
    {
      "cell_type": "code",
      "metadata": {
        "id": "FWo14jq3mMCR",
        "colab_type": "code",
        "colab": {
          "base_uri": "https://localhost:8080/",
          "height": 34
        },
        "outputId": "241de1a4-50ca-4517-9c5e-b490af99393e"
      },
      "source": [
        "# When we send our vectors to BERT, we don't wanna confuse it, so we tell it to\n",
        "# ignore the padded we've added\n",
        "#says, if an entry in padded is non-zero, place a 1 there, otherwise, keep 0 there.\n",
        "\n",
        "attention_mask = np.where(padded != 0, 1, 0)\n",
        "attention_mask.shape"
      ],
      "execution_count": 19,
      "outputs": [
        {
          "output_type": "execute_result",
          "data": {
            "text/plain": [
              "(1815, 46)"
            ]
          },
          "metadata": {
            "tags": []
          },
          "execution_count": 19
        }
      ]
    },
    {
      "cell_type": "code",
      "metadata": {
        "id": "wSjJOWqWPILT",
        "colab_type": "code",
        "colab": {
          "base_uri": "https://localhost:8080/",
          "height": 134
        },
        "outputId": "a7d9a1e9-1cf1-4156-9c47-07bf547a8e54"
      },
      "source": [
        "attention_mask"
      ],
      "execution_count": 20,
      "outputs": [
        {
          "output_type": "execute_result",
          "data": {
            "text/plain": [
              "array([[1, 1, 1, ..., 0, 0, 0],\n",
              "       [1, 1, 1, ..., 0, 0, 0],\n",
              "       [1, 1, 1, ..., 0, 0, 0],\n",
              "       ...,\n",
              "       [1, 1, 1, ..., 0, 0, 0],\n",
              "       [1, 1, 1, ..., 0, 0, 0],\n",
              "       [1, 1, 1, ..., 0, 0, 0]])"
            ]
          },
          "metadata": {
            "tags": []
          },
          "execution_count": 20
        }
      ]
    },
    {
      "cell_type": "markdown",
      "metadata": {
        "id": "rYMb2TFsmMCU",
        "colab_type": "text"
      },
      "source": [
        "### Implement BERT"
      ]
    },
    {
      "cell_type": "code",
      "metadata": {
        "id": "a-1aSk4tmMCV",
        "colab_type": "code",
        "colab": {}
      },
      "source": [
        "# model() runs our titles through DistilBERT and stores the results \n",
        "# in last_hidden_states\n",
        "\n",
        "input_ids = torch.tensor(padded)\n",
        "attention_mask = torch.tensor(attention_mask)\n",
        "\n",
        "with torch.no_grad():\n",
        "    last_hidden_states = model(input_ids, attention_mask = attention_mask)"
      ],
      "execution_count": 21,
      "outputs": []
    },
    {
      "cell_type": "code",
      "metadata": {
        "id": "npf-3IcrmMCX",
        "colab_type": "code",
        "colab": {
          "base_uri": "https://localhost:8080/",
          "height": 840
        },
        "outputId": "b39ed3fa-2470-4f5a-f58f-cd449129b486"
      },
      "source": [
        "last_hidden_states"
      ],
      "execution_count": 22,
      "outputs": [
        {
          "output_type": "execute_result",
          "data": {
            "text/plain": [
              "(tensor([[[-0.2987, -0.1951, -0.2050,  ..., -0.3205,  0.0079,  0.2928],\n",
              "          [ 0.1118,  0.1722, -0.1689,  ..., -0.2847,  0.3555,  0.0911],\n",
              "          [ 0.0171, -0.3881,  0.1743,  ..., -0.4270, -0.3054,  0.0425],\n",
              "          ...,\n",
              "          [ 0.2110, -0.0167,  0.0052,  ..., -0.0079, -0.2847,  0.0301],\n",
              "          [ 0.1501, -0.1457,  0.1771,  ..., -0.1131, -0.1022,  0.1141],\n",
              "          [ 0.3113, -0.1613,  0.1510,  ..., -0.0960, -0.1376,  0.0273]],\n",
              " \n",
              "         [[-0.2555, -0.2464, -0.0091,  ..., -0.2630,  0.1791,  0.2592],\n",
              "          [ 0.2396, -0.2908,  0.0894,  ..., -0.0704,  0.1717,  0.1895],\n",
              "          [-0.0816, -0.0418,  0.1850,  ..., -0.4769, -0.2043, -0.2650],\n",
              "          ...,\n",
              "          [-0.0447, -0.2475,  0.2535,  ...,  0.0893, -0.4130,  0.0915],\n",
              "          [-0.0336, -0.2031,  0.1130,  ...,  0.1216, -0.3515,  0.1255],\n",
              "          [-0.0360, -0.1804,  0.1136,  ...,  0.1059, -0.3022,  0.1682]],\n",
              " \n",
              "         [[-0.2024, -0.1282, -0.1994,  ..., -0.2429, -0.2209,  0.3531],\n",
              "          [ 0.1824, -0.4550, -0.1725,  ..., -0.1348,  0.1419,  0.5311],\n",
              "          [-0.0170,  0.0417, -0.2440,  ..., -0.4705, -0.3991, -0.1780],\n",
              "          ...,\n",
              "          [-0.1278, -0.1291,  0.3737,  ..., -0.2205, -0.3887,  0.2048],\n",
              "          [-0.0105, -0.2001,  0.3951,  ..., -0.2246, -0.4060,  0.2566],\n",
              "          [ 0.1919, -0.2753,  0.3808,  ..., -0.1886, -0.4117,  0.2402]],\n",
              " \n",
              "         ...,\n",
              " \n",
              "         [[-0.0316, -0.1254, -0.0988,  ..., -0.0641,  0.3857,  0.3834],\n",
              "          [ 0.4266, -0.2145,  0.0527,  ...,  0.0224,  0.4402,  0.1120],\n",
              "          [ 0.4974, -0.5361,  0.0290,  ..., -0.1108, -0.0824, -0.1010],\n",
              "          ...,\n",
              "          [ 0.4292,  0.1078,  0.1496,  ..., -0.0290, -0.2092, -0.2585],\n",
              "          [ 0.1076, -0.2461,  0.1349,  ...,  0.2481,  0.0547, -0.0006],\n",
              "          [-0.1910, -0.0065,  0.2909,  ...,  0.2989,  0.2832,  0.0913]],\n",
              " \n",
              "         [[-0.2523, -0.2330,  0.0627,  ..., -0.1998, -0.0818,  0.3965],\n",
              "          [ 0.2306, -0.5382,  0.0867,  ..., -0.1152, -0.0467, -0.1011],\n",
              "          [ 0.0922, -0.4961,  0.2859,  ..., -0.1653, -0.0226,  0.3178],\n",
              "          ...,\n",
              "          [ 0.0329, -0.1056,  0.0853,  ..., -0.1147, -0.3852,  0.1223],\n",
              "          [ 0.0683, -0.1228,  0.1159,  ..., -0.1156, -0.3935,  0.1371],\n",
              "          [ 0.0842, -0.1133,  0.1323,  ..., -0.1185, -0.3683,  0.1341]],\n",
              " \n",
              "         [[-0.3352, -0.2128, -0.1000,  ..., -0.1953,  0.0723,  0.2778],\n",
              "          [ 0.1526, -0.2770,  0.1494,  ...,  0.1289,  0.4236,  0.1828],\n",
              "          [ 0.5031, -0.5373,  0.2348,  ..., -0.2980, -0.1258, -0.1261],\n",
              "          ...,\n",
              "          [-0.0384, -0.0280,  0.0772,  ..., -0.0402, -0.2106,  0.0827],\n",
              "          [-0.1202,  0.0281,  0.2737,  ..., -0.1292, -0.0513,  0.1174],\n",
              "          [ 0.0332, -0.0732,  0.1348,  ..., -0.0903, -0.1369,  0.1073]]]),)"
            ]
          },
          "metadata": {
            "tags": []
          },
          "execution_count": 22
        }
      ]
    },
    {
      "cell_type": "code",
      "metadata": {
        "id": "syAq_tEHn3Pe",
        "colab_type": "code",
        "colab": {}
      },
      "source": [
        " # Slice the output for the first position for all the sequences, \n",
        " # take all hidden unit outputs. This takes our 3d tensor to the 2d \n",
        " # tensor we want. \n",
        " \n",
        "features = last_hidden_states[0][:,0,:].numpy()"
      ],
      "execution_count": 23,
      "outputs": []
    },
    {
      "cell_type": "code",
      "metadata": {
        "id": "0kx_N2wyXigV",
        "colab_type": "code",
        "colab": {
          "base_uri": "https://localhost:8080/",
          "height": 235
        },
        "outputId": "d5f9332a-6381-4a26-9b30-fb42cde3c7ef"
      },
      "source": [
        "# Now we have a 2d numpy array containing the title embeddings of all the titles\n",
        "# in our dataframe\n",
        "\n",
        "features"
      ],
      "execution_count": 24,
      "outputs": [
        {
          "output_type": "execute_result",
          "data": {
            "text/plain": [
              "array([[-0.29865476, -0.19507974, -0.20497093, ..., -0.32045913,\n",
              "         0.00794015,  0.2928201 ],\n",
              "       [-0.25547445, -0.24642347, -0.00914994, ..., -0.26295692,\n",
              "         0.17914344,  0.25920343],\n",
              "       [-0.20243658, -0.12817791, -0.19943656, ..., -0.24293612,\n",
              "        -0.22086985,  0.35314402],\n",
              "       ...,\n",
              "       [-0.03164658, -0.125362  , -0.09875356, ..., -0.06413957,\n",
              "         0.38573706,  0.3833593 ],\n",
              "       [-0.25228223, -0.23297726,  0.0626864 , ..., -0.19984004,\n",
              "        -0.08183997,  0.39651406],\n",
              "       [-0.3352247 , -0.2128325 , -0.1000304 , ..., -0.1953064 ,\n",
              "         0.07226377,  0.27778935]], dtype=float32)"
            ]
          },
          "metadata": {
            "tags": []
          },
          "execution_count": 24
        }
      ]
    },
    {
      "cell_type": "code",
      "metadata": {
        "id": "_Xc--aThXjWZ",
        "colab_type": "code",
        "colab": {}
      },
      "source": [
        ""
      ],
      "execution_count": null,
      "outputs": []
    }
  ]
}