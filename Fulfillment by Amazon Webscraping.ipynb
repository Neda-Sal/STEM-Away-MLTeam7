{
 "cells": [
  {
   "cell_type": "code",
   "execution_count": 425,
   "metadata": {
    "scrolled": false
   },
   "outputs": [],
   "source": [
    "# imports\n",
    "from selenium import webdriver\n",
    "import pandas as pd\n",
    "import numpy as np\n",
    "import time\n",
    "from bs4 import BeautifulSoup"
   ]
  },
  {
   "cell_type": "code",
   "execution_count": 426,
   "metadata": {
    "scrolled": true
   },
   "outputs": [],
   "source": [
    "# webdriver\n",
    "browser = webdriver.Chrome()\n",
    "browser.set_page_load_timeout(10)\n",
    "URL = \"https://sellercentral.amazon.com/forums/c/fulfillment-by-amazon\"\n",
    "browser.get(URL)"
   ]
  },
  {
   "cell_type": "code",
   "execution_count": 427,
   "metadata": {},
   "outputs": [],
   "source": [
    "# variables\n",
    "scroll_pause_time = 3\n",
    "cats = []\n",
    "subcats = []\n",
    "titles = []\n",
    "post_texts = []\n",
    "urls = []\n",
    "replies = []\n",
    "start = 0\n",
    "reloads = 0"
   ]
  },
  {
   "cell_type": "code",
   "execution_count": 430,
   "metadata": {
    "scrolled": true
   },
   "outputs": [],
   "source": [
    "# webscraping\n",
    "while reloads < 30:\n",
    "    \n",
    "    # find all posts on page\n",
    "    elem = browser.find_element_by_tag_name(\"span\")\n",
    "    post_elem = browser.find_elements_by_class_name(\"link-top-line\")\n",
    "    \n",
    "    for i in range(start, len(post_elem)):\n",
    "        \n",
    "        # find link to each post\n",
    "        time.sleep(2.5) # increase the sleep time if there's an error at runtime\n",
    "        elem = browser.find_element_by_tag_name(\"span\")\n",
    "        post_elem = browser.find_elements_by_class_name(\"link-top-line\")\n",
    "        link = browser.find_element_by_link_text(post_elem[i].text)\n",
    "        link.click()\n",
    "\n",
    "        # switch URL of browser\n",
    "        time.sleep(2) # increase the sleep time if there's an error at runtime\n",
    "        window_after = browser.window_handles[0]\n",
    "        browser.switch_to.window(window_after)\n",
    "\n",
    "        soup = BeautifulSoup(browser.page_source, 'html.parser')\n",
    "        post = soup.find(\"section\")\n",
    "        # title\n",
    "        title = post.find('a', attrs={'class': 'fancy-title'})\n",
    "        titles.append(title.text.replace('\\n', '').strip())\n",
    "        # category\n",
    "        categories = post.find_all('span', attrs={'class': 'category-name'})\n",
    "        cat = categories[0]\n",
    "        cats.append(cat.text.replace('\\n', '').strip())\n",
    "        # subcategory\n",
    "        if len(categories) > 1 :\n",
    "            subcat = categories[1]\n",
    "        else :\n",
    "            subcat = categories[0]\n",
    "        subcats.append(subcat.text.replace('\\n', '').strip())\n",
    "        # post text\n",
    "        post_text = post.find('div', attrs={'class': 'cooked'})\n",
    "        post_texts.append(post_text.text.replace('\\n', '').strip())\n",
    "        # urls\n",
    "        url = browser.current_url\n",
    "        urls.append(url)\n",
    "        # replies\n",
    "        comments = post.find_all('div', attrs={'class': 'regular contents'})\n",
    "        post_comments = []\n",
    "        for i in range (1, len(comments)) :\n",
    "            post_comments.append(comments[i].find('div', attrs={'class': \"cooked\"}).text.replace('\\n', '').strip())\n",
    "        replies.append(post_comments)\n",
    "\n",
    "        browser.back()\n",
    "    \n",
    "    # scroll down once\n",
    "    start = len(post_elem)\n",
    "    browser.execute_script(\"window.scrollTo(0, document.body.scrollHeight);\")\n",
    "    reloads = reloads + 1\n",
    "    time.sleep(scroll_pause_time)\n",
    "\n",
    "browser.close()"
   ]
  },
  {
   "cell_type": "code",
   "execution_count": null,
   "metadata": {
    "scrolled": false
   },
   "outputs": [],
   "source": [
    "# dataframe 1\n",
    "all = list(zip(titles, cats, subcats, post_texts, urls))\n",
    "DF1 = pd.DataFrame(all, columns = [\"Title\", \"Category\", \"Sub-category\", \"Post Text\", \"URL\"])\n",
    "DF1.head(800)"
   ]
  },
  {
   "cell_type": "code",
   "execution_count": null,
   "metadata": {},
   "outputs": [],
   "source": [
    "# dataframe 2\n",
    "responses = []\n",
    "for i in range (0, len(urls)) :\n",
    "    for j in range (0, len(replies[i])) :\n",
    "        responses.append((urls[i], replies[i][j]))\n",
    "DF2 = pd.DataFrame(responses, columns = [\"URL\", \"Response Text\"])\n",
    "DF2.head(800)"
   ]
  },
  {
   "cell_type": "code",
   "execution_count": null,
   "metadata": {},
   "outputs": [],
   "source": [
    "# csv files\n",
    "DF1.to_csv('DF1.csv', index = False)\n",
    "DF2.to_csv('DF2.csv', index = False)"
   ]
  }
 ],
 "metadata": {
  "kernelspec": {
   "display_name": "Python 3",
   "language": "python",
   "name": "python3"
  },
  "language_info": {
   "codemirror_mode": {
    "name": "ipython",
    "version": 3
   },
   "file_extension": ".py",
   "mimetype": "text/x-python",
   "name": "python",
   "nbconvert_exporter": "python",
   "pygments_lexer": "ipython3",
   "version": "3.7.6"
  }
 },
 "nbformat": 4,
 "nbformat_minor": 4
}
