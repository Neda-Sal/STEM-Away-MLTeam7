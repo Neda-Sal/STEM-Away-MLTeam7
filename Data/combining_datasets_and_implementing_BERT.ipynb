{
  "nbformat": 4,
  "nbformat_minor": 0,
  "metadata": {
    "kernelspec": {
      "display_name": "Python 3",
      "language": "python",
      "name": "python3"
    },
    "language_info": {
      "codemirror_mode": {
        "name": "ipython",
        "version": 3
      },
      "file_extension": ".py",
      "mimetype": "text/x-python",
      "name": "python",
      "nbconvert_exporter": "python",
      "pygments_lexer": "ipython3",
      "version": "3.7.6"
    },
    "colab": {
      "name": "combining datasets and implementing BERT.ipynb",
      "provenance": []
    },
    "widgets": {
      "application/vnd.jupyter.widget-state+json": {
        "928b6d708f0e4420a397793f84131876": {
          "model_module": "@jupyter-widgets/controls",
          "model_name": "HBoxModel",
          "state": {
            "_view_name": "HBoxView",
            "_dom_classes": [],
            "_model_name": "HBoxModel",
            "_view_module": "@jupyter-widgets/controls",
            "_model_module_version": "1.5.0",
            "_view_count": null,
            "_view_module_version": "1.5.0",
            "box_style": "",
            "layout": "IPY_MODEL_ce06423656174c56b28a5257533c1d60",
            "_model_module": "@jupyter-widgets/controls",
            "children": [
              "IPY_MODEL_007056918ff84dc18c4ed7d314c6fd56",
              "IPY_MODEL_5584b5dd54cb40aa99853b1429e451d9"
            ]
          }
        },
        "ce06423656174c56b28a5257533c1d60": {
          "model_module": "@jupyter-widgets/base",
          "model_name": "LayoutModel",
          "state": {
            "_view_name": "LayoutView",
            "grid_template_rows": null,
            "right": null,
            "justify_content": null,
            "_view_module": "@jupyter-widgets/base",
            "overflow": null,
            "_model_module_version": "1.2.0",
            "_view_count": null,
            "flex_flow": null,
            "width": null,
            "min_width": null,
            "border": null,
            "align_items": null,
            "bottom": null,
            "_model_module": "@jupyter-widgets/base",
            "top": null,
            "grid_column": null,
            "overflow_y": null,
            "overflow_x": null,
            "grid_auto_flow": null,
            "grid_area": null,
            "grid_template_columns": null,
            "flex": null,
            "_model_name": "LayoutModel",
            "justify_items": null,
            "grid_row": null,
            "max_height": null,
            "align_content": null,
            "visibility": null,
            "align_self": null,
            "height": null,
            "min_height": null,
            "padding": null,
            "grid_auto_rows": null,
            "grid_gap": null,
            "max_width": null,
            "order": null,
            "_view_module_version": "1.2.0",
            "grid_template_areas": null,
            "object_position": null,
            "object_fit": null,
            "grid_auto_columns": null,
            "margin": null,
            "display": null,
            "left": null
          }
        },
        "007056918ff84dc18c4ed7d314c6fd56": {
          "model_module": "@jupyter-widgets/controls",
          "model_name": "FloatProgressModel",
          "state": {
            "_view_name": "ProgressView",
            "style": "IPY_MODEL_d91a56c8ed63462b87d47491b2cfdb92",
            "_dom_classes": [],
            "description": "Downloading: 100%",
            "_model_name": "FloatProgressModel",
            "bar_style": "success",
            "max": 231508,
            "_view_module": "@jupyter-widgets/controls",
            "_model_module_version": "1.5.0",
            "value": 231508,
            "_view_count": null,
            "_view_module_version": "1.5.0",
            "orientation": "horizontal",
            "min": 0,
            "description_tooltip": null,
            "_model_module": "@jupyter-widgets/controls",
            "layout": "IPY_MODEL_00f6d1005cc8448ba42cdc13ab98266a"
          }
        },
        "5584b5dd54cb40aa99853b1429e451d9": {
          "model_module": "@jupyter-widgets/controls",
          "model_name": "HTMLModel",
          "state": {
            "_view_name": "HTMLView",
            "style": "IPY_MODEL_fddb7b9a3af54a3eabf48e1ef4a0110a",
            "_dom_classes": [],
            "description": "",
            "_model_name": "HTMLModel",
            "placeholder": "​",
            "_view_module": "@jupyter-widgets/controls",
            "_model_module_version": "1.5.0",
            "value": " 232k/232k [00:00&lt;00:00, 2.14MB/s]",
            "_view_count": null,
            "_view_module_version": "1.5.0",
            "description_tooltip": null,
            "_model_module": "@jupyter-widgets/controls",
            "layout": "IPY_MODEL_1facaac2f79d4a6ea56d60b381b7333d"
          }
        },
        "d91a56c8ed63462b87d47491b2cfdb92": {
          "model_module": "@jupyter-widgets/controls",
          "model_name": "ProgressStyleModel",
          "state": {
            "_view_name": "StyleView",
            "_model_name": "ProgressStyleModel",
            "description_width": "initial",
            "_view_module": "@jupyter-widgets/base",
            "_model_module_version": "1.5.0",
            "_view_count": null,
            "_view_module_version": "1.2.0",
            "bar_color": null,
            "_model_module": "@jupyter-widgets/controls"
          }
        },
        "00f6d1005cc8448ba42cdc13ab98266a": {
          "model_module": "@jupyter-widgets/base",
          "model_name": "LayoutModel",
          "state": {
            "_view_name": "LayoutView",
            "grid_template_rows": null,
            "right": null,
            "justify_content": null,
            "_view_module": "@jupyter-widgets/base",
            "overflow": null,
            "_model_module_version": "1.2.0",
            "_view_count": null,
            "flex_flow": null,
            "width": null,
            "min_width": null,
            "border": null,
            "align_items": null,
            "bottom": null,
            "_model_module": "@jupyter-widgets/base",
            "top": null,
            "grid_column": null,
            "overflow_y": null,
            "overflow_x": null,
            "grid_auto_flow": null,
            "grid_area": null,
            "grid_template_columns": null,
            "flex": null,
            "_model_name": "LayoutModel",
            "justify_items": null,
            "grid_row": null,
            "max_height": null,
            "align_content": null,
            "visibility": null,
            "align_self": null,
            "height": null,
            "min_height": null,
            "padding": null,
            "grid_auto_rows": null,
            "grid_gap": null,
            "max_width": null,
            "order": null,
            "_view_module_version": "1.2.0",
            "grid_template_areas": null,
            "object_position": null,
            "object_fit": null,
            "grid_auto_columns": null,
            "margin": null,
            "display": null,
            "left": null
          }
        },
        "fddb7b9a3af54a3eabf48e1ef4a0110a": {
          "model_module": "@jupyter-widgets/controls",
          "model_name": "DescriptionStyleModel",
          "state": {
            "_view_name": "StyleView",
            "_model_name": "DescriptionStyleModel",
            "description_width": "",
            "_view_module": "@jupyter-widgets/base",
            "_model_module_version": "1.5.0",
            "_view_count": null,
            "_view_module_version": "1.2.0",
            "_model_module": "@jupyter-widgets/controls"
          }
        },
        "1facaac2f79d4a6ea56d60b381b7333d": {
          "model_module": "@jupyter-widgets/base",
          "model_name": "LayoutModel",
          "state": {
            "_view_name": "LayoutView",
            "grid_template_rows": null,
            "right": null,
            "justify_content": null,
            "_view_module": "@jupyter-widgets/base",
            "overflow": null,
            "_model_module_version": "1.2.0",
            "_view_count": null,
            "flex_flow": null,
            "width": null,
            "min_width": null,
            "border": null,
            "align_items": null,
            "bottom": null,
            "_model_module": "@jupyter-widgets/base",
            "top": null,
            "grid_column": null,
            "overflow_y": null,
            "overflow_x": null,
            "grid_auto_flow": null,
            "grid_area": null,
            "grid_template_columns": null,
            "flex": null,
            "_model_name": "LayoutModel",
            "justify_items": null,
            "grid_row": null,
            "max_height": null,
            "align_content": null,
            "visibility": null,
            "align_self": null,
            "height": null,
            "min_height": null,
            "padding": null,
            "grid_auto_rows": null,
            "grid_gap": null,
            "max_width": null,
            "order": null,
            "_view_module_version": "1.2.0",
            "grid_template_areas": null,
            "object_position": null,
            "object_fit": null,
            "grid_auto_columns": null,
            "margin": null,
            "display": null,
            "left": null
          }
        },
        "d6f366d81f5148349fa2a5547542000f": {
          "model_module": "@jupyter-widgets/controls",
          "model_name": "HBoxModel",
          "state": {
            "_view_name": "HBoxView",
            "_dom_classes": [],
            "_model_name": "HBoxModel",
            "_view_module": "@jupyter-widgets/controls",
            "_model_module_version": "1.5.0",
            "_view_count": null,
            "_view_module_version": "1.5.0",
            "box_style": "",
            "layout": "IPY_MODEL_e5776cc2186548faa7bd03a36170f716",
            "_model_module": "@jupyter-widgets/controls",
            "children": [
              "IPY_MODEL_c99f5e0f371d4c2bbd8fade40480cda2",
              "IPY_MODEL_7696b2184b52445a9e86cf8ae8415629"
            ]
          }
        },
        "e5776cc2186548faa7bd03a36170f716": {
          "model_module": "@jupyter-widgets/base",
          "model_name": "LayoutModel",
          "state": {
            "_view_name": "LayoutView",
            "grid_template_rows": null,
            "right": null,
            "justify_content": null,
            "_view_module": "@jupyter-widgets/base",
            "overflow": null,
            "_model_module_version": "1.2.0",
            "_view_count": null,
            "flex_flow": null,
            "width": null,
            "min_width": null,
            "border": null,
            "align_items": null,
            "bottom": null,
            "_model_module": "@jupyter-widgets/base",
            "top": null,
            "grid_column": null,
            "overflow_y": null,
            "overflow_x": null,
            "grid_auto_flow": null,
            "grid_area": null,
            "grid_template_columns": null,
            "flex": null,
            "_model_name": "LayoutModel",
            "justify_items": null,
            "grid_row": null,
            "max_height": null,
            "align_content": null,
            "visibility": null,
            "align_self": null,
            "height": null,
            "min_height": null,
            "padding": null,
            "grid_auto_rows": null,
            "grid_gap": null,
            "max_width": null,
            "order": null,
            "_view_module_version": "1.2.0",
            "grid_template_areas": null,
            "object_position": null,
            "object_fit": null,
            "grid_auto_columns": null,
            "margin": null,
            "display": null,
            "left": null
          }
        },
        "c99f5e0f371d4c2bbd8fade40480cda2": {
          "model_module": "@jupyter-widgets/controls",
          "model_name": "FloatProgressModel",
          "state": {
            "_view_name": "ProgressView",
            "style": "IPY_MODEL_7e868c7e7ccd4b6aae22a070aa5aef38",
            "_dom_classes": [],
            "description": "Downloading: 100%",
            "_model_name": "FloatProgressModel",
            "bar_style": "success",
            "max": 442,
            "_view_module": "@jupyter-widgets/controls",
            "_model_module_version": "1.5.0",
            "value": 442,
            "_view_count": null,
            "_view_module_version": "1.5.0",
            "orientation": "horizontal",
            "min": 0,
            "description_tooltip": null,
            "_model_module": "@jupyter-widgets/controls",
            "layout": "IPY_MODEL_f38cff1a6a0c48c4a046807016c7d72e"
          }
        },
        "7696b2184b52445a9e86cf8ae8415629": {
          "model_module": "@jupyter-widgets/controls",
          "model_name": "HTMLModel",
          "state": {
            "_view_name": "HTMLView",
            "style": "IPY_MODEL_bbc9370aad1749a8affb7d73f5b26520",
            "_dom_classes": [],
            "description": "",
            "_model_name": "HTMLModel",
            "placeholder": "​",
            "_view_module": "@jupyter-widgets/controls",
            "_model_module_version": "1.5.0",
            "value": " 442/442 [00:01&lt;00:00, 298B/s]",
            "_view_count": null,
            "_view_module_version": "1.5.0",
            "description_tooltip": null,
            "_model_module": "@jupyter-widgets/controls",
            "layout": "IPY_MODEL_e03ce970e38349849cb22c7411cdb89b"
          }
        },
        "7e868c7e7ccd4b6aae22a070aa5aef38": {
          "model_module": "@jupyter-widgets/controls",
          "model_name": "ProgressStyleModel",
          "state": {
            "_view_name": "StyleView",
            "_model_name": "ProgressStyleModel",
            "description_width": "initial",
            "_view_module": "@jupyter-widgets/base",
            "_model_module_version": "1.5.0",
            "_view_count": null,
            "_view_module_version": "1.2.0",
            "bar_color": null,
            "_model_module": "@jupyter-widgets/controls"
          }
        },
        "f38cff1a6a0c48c4a046807016c7d72e": {
          "model_module": "@jupyter-widgets/base",
          "model_name": "LayoutModel",
          "state": {
            "_view_name": "LayoutView",
            "grid_template_rows": null,
            "right": null,
            "justify_content": null,
            "_view_module": "@jupyter-widgets/base",
            "overflow": null,
            "_model_module_version": "1.2.0",
            "_view_count": null,
            "flex_flow": null,
            "width": null,
            "min_width": null,
            "border": null,
            "align_items": null,
            "bottom": null,
            "_model_module": "@jupyter-widgets/base",
            "top": null,
            "grid_column": null,
            "overflow_y": null,
            "overflow_x": null,
            "grid_auto_flow": null,
            "grid_area": null,
            "grid_template_columns": null,
            "flex": null,
            "_model_name": "LayoutModel",
            "justify_items": null,
            "grid_row": null,
            "max_height": null,
            "align_content": null,
            "visibility": null,
            "align_self": null,
            "height": null,
            "min_height": null,
            "padding": null,
            "grid_auto_rows": null,
            "grid_gap": null,
            "max_width": null,
            "order": null,
            "_view_module_version": "1.2.0",
            "grid_template_areas": null,
            "object_position": null,
            "object_fit": null,
            "grid_auto_columns": null,
            "margin": null,
            "display": null,
            "left": null
          }
        },
        "bbc9370aad1749a8affb7d73f5b26520": {
          "model_module": "@jupyter-widgets/controls",
          "model_name": "DescriptionStyleModel",
          "state": {
            "_view_name": "StyleView",
            "_model_name": "DescriptionStyleModel",
            "description_width": "",
            "_view_module": "@jupyter-widgets/base",
            "_model_module_version": "1.5.0",
            "_view_count": null,
            "_view_module_version": "1.2.0",
            "_model_module": "@jupyter-widgets/controls"
          }
        },
        "e03ce970e38349849cb22c7411cdb89b": {
          "model_module": "@jupyter-widgets/base",
          "model_name": "LayoutModel",
          "state": {
            "_view_name": "LayoutView",
            "grid_template_rows": null,
            "right": null,
            "justify_content": null,
            "_view_module": "@jupyter-widgets/base",
            "overflow": null,
            "_model_module_version": "1.2.0",
            "_view_count": null,
            "flex_flow": null,
            "width": null,
            "min_width": null,
            "border": null,
            "align_items": null,
            "bottom": null,
            "_model_module": "@jupyter-widgets/base",
            "top": null,
            "grid_column": null,
            "overflow_y": null,
            "overflow_x": null,
            "grid_auto_flow": null,
            "grid_area": null,
            "grid_template_columns": null,
            "flex": null,
            "_model_name": "LayoutModel",
            "justify_items": null,
            "grid_row": null,
            "max_height": null,
            "align_content": null,
            "visibility": null,
            "align_self": null,
            "height": null,
            "min_height": null,
            "padding": null,
            "grid_auto_rows": null,
            "grid_gap": null,
            "max_width": null,
            "order": null,
            "_view_module_version": "1.2.0",
            "grid_template_areas": null,
            "object_position": null,
            "object_fit": null,
            "grid_auto_columns": null,
            "margin": null,
            "display": null,
            "left": null
          }
        },
        "92dfecd742014f18a59da4281cf28a64": {
          "model_module": "@jupyter-widgets/controls",
          "model_name": "HBoxModel",
          "state": {
            "_view_name": "HBoxView",
            "_dom_classes": [],
            "_model_name": "HBoxModel",
            "_view_module": "@jupyter-widgets/controls",
            "_model_module_version": "1.5.0",
            "_view_count": null,
            "_view_module_version": "1.5.0",
            "box_style": "",
            "layout": "IPY_MODEL_00fab36d408549e2a359316f3309acd2",
            "_model_module": "@jupyter-widgets/controls",
            "children": [
              "IPY_MODEL_53a9c52de6a34e838919cde3d6185c94",
              "IPY_MODEL_a057ddc7d14647968ecfc059a4e52674"
            ]
          }
        },
        "00fab36d408549e2a359316f3309acd2": {
          "model_module": "@jupyter-widgets/base",
          "model_name": "LayoutModel",
          "state": {
            "_view_name": "LayoutView",
            "grid_template_rows": null,
            "right": null,
            "justify_content": null,
            "_view_module": "@jupyter-widgets/base",
            "overflow": null,
            "_model_module_version": "1.2.0",
            "_view_count": null,
            "flex_flow": null,
            "width": null,
            "min_width": null,
            "border": null,
            "align_items": null,
            "bottom": null,
            "_model_module": "@jupyter-widgets/base",
            "top": null,
            "grid_column": null,
            "overflow_y": null,
            "overflow_x": null,
            "grid_auto_flow": null,
            "grid_area": null,
            "grid_template_columns": null,
            "flex": null,
            "_model_name": "LayoutModel",
            "justify_items": null,
            "grid_row": null,
            "max_height": null,
            "align_content": null,
            "visibility": null,
            "align_self": null,
            "height": null,
            "min_height": null,
            "padding": null,
            "grid_auto_rows": null,
            "grid_gap": null,
            "max_width": null,
            "order": null,
            "_view_module_version": "1.2.0",
            "grid_template_areas": null,
            "object_position": null,
            "object_fit": null,
            "grid_auto_columns": null,
            "margin": null,
            "display": null,
            "left": null
          }
        },
        "53a9c52de6a34e838919cde3d6185c94": {
          "model_module": "@jupyter-widgets/controls",
          "model_name": "FloatProgressModel",
          "state": {
            "_view_name": "ProgressView",
            "style": "IPY_MODEL_c518a3ca44344a23ac27cfa70b326d79",
            "_dom_classes": [],
            "description": "Downloading: 100%",
            "_model_name": "FloatProgressModel",
            "bar_style": "success",
            "max": 267967963,
            "_view_module": "@jupyter-widgets/controls",
            "_model_module_version": "1.5.0",
            "value": 267967963,
            "_view_count": null,
            "_view_module_version": "1.5.0",
            "orientation": "horizontal",
            "min": 0,
            "description_tooltip": null,
            "_model_module": "@jupyter-widgets/controls",
            "layout": "IPY_MODEL_e5fd2fb236f14f709cb5f698cab8bbc9"
          }
        },
        "a057ddc7d14647968ecfc059a4e52674": {
          "model_module": "@jupyter-widgets/controls",
          "model_name": "HTMLModel",
          "state": {
            "_view_name": "HTMLView",
            "style": "IPY_MODEL_19c7cbda8bf94a3c98cb4930b4cfd2e4",
            "_dom_classes": [],
            "description": "",
            "_model_name": "HTMLModel",
            "placeholder": "​",
            "_view_module": "@jupyter-widgets/controls",
            "_model_module_version": "1.5.0",
            "value": " 268M/268M [00:18&lt;00:00, 14.4MB/s]",
            "_view_count": null,
            "_view_module_version": "1.5.0",
            "description_tooltip": null,
            "_model_module": "@jupyter-widgets/controls",
            "layout": "IPY_MODEL_14a86923588b4e4baba737cda11d4e8b"
          }
        },
        "c518a3ca44344a23ac27cfa70b326d79": {
          "model_module": "@jupyter-widgets/controls",
          "model_name": "ProgressStyleModel",
          "state": {
            "_view_name": "StyleView",
            "_model_name": "ProgressStyleModel",
            "description_width": "initial",
            "_view_module": "@jupyter-widgets/base",
            "_model_module_version": "1.5.0",
            "_view_count": null,
            "_view_module_version": "1.2.0",
            "bar_color": null,
            "_model_module": "@jupyter-widgets/controls"
          }
        },
        "e5fd2fb236f14f709cb5f698cab8bbc9": {
          "model_module": "@jupyter-widgets/base",
          "model_name": "LayoutModel",
          "state": {
            "_view_name": "LayoutView",
            "grid_template_rows": null,
            "right": null,
            "justify_content": null,
            "_view_module": "@jupyter-widgets/base",
            "overflow": null,
            "_model_module_version": "1.2.0",
            "_view_count": null,
            "flex_flow": null,
            "width": null,
            "min_width": null,
            "border": null,
            "align_items": null,
            "bottom": null,
            "_model_module": "@jupyter-widgets/base",
            "top": null,
            "grid_column": null,
            "overflow_y": null,
            "overflow_x": null,
            "grid_auto_flow": null,
            "grid_area": null,
            "grid_template_columns": null,
            "flex": null,
            "_model_name": "LayoutModel",
            "justify_items": null,
            "grid_row": null,
            "max_height": null,
            "align_content": null,
            "visibility": null,
            "align_self": null,
            "height": null,
            "min_height": null,
            "padding": null,
            "grid_auto_rows": null,
            "grid_gap": null,
            "max_width": null,
            "order": null,
            "_view_module_version": "1.2.0",
            "grid_template_areas": null,
            "object_position": null,
            "object_fit": null,
            "grid_auto_columns": null,
            "margin": null,
            "display": null,
            "left": null
          }
        },
        "19c7cbda8bf94a3c98cb4930b4cfd2e4": {
          "model_module": "@jupyter-widgets/controls",
          "model_name": "DescriptionStyleModel",
          "state": {
            "_view_name": "StyleView",
            "_model_name": "DescriptionStyleModel",
            "description_width": "",
            "_view_module": "@jupyter-widgets/base",
            "_model_module_version": "1.5.0",
            "_view_count": null,
            "_view_module_version": "1.2.0",
            "_model_module": "@jupyter-widgets/controls"
          }
        },
        "14a86923588b4e4baba737cda11d4e8b": {
          "model_module": "@jupyter-widgets/base",
          "model_name": "LayoutModel",
          "state": {
            "_view_name": "LayoutView",
            "grid_template_rows": null,
            "right": null,
            "justify_content": null,
            "_view_module": "@jupyter-widgets/base",
            "overflow": null,
            "_model_module_version": "1.2.0",
            "_view_count": null,
            "flex_flow": null,
            "width": null,
            "min_width": null,
            "border": null,
            "align_items": null,
            "bottom": null,
            "_model_module": "@jupyter-widgets/base",
            "top": null,
            "grid_column": null,
            "overflow_y": null,
            "overflow_x": null,
            "grid_auto_flow": null,
            "grid_area": null,
            "grid_template_columns": null,
            "flex": null,
            "_model_name": "LayoutModel",
            "justify_items": null,
            "grid_row": null,
            "max_height": null,
            "align_content": null,
            "visibility": null,
            "align_self": null,
            "height": null,
            "min_height": null,
            "padding": null,
            "grid_auto_rows": null,
            "grid_gap": null,
            "max_width": null,
            "order": null,
            "_view_module_version": "1.2.0",
            "grid_template_areas": null,
            "object_position": null,
            "object_fit": null,
            "grid_auto_columns": null,
            "margin": null,
            "display": null,
            "left": null
          }
        }
      }
    }
  },
  "cells": [
    {
      "cell_type": "code",
      "metadata": {
        "id": "RQEhkNEYmMBR",
        "colab_type": "code",
        "colab": {}
      },
      "source": [
        "import pandas as pd"
      ],
      "execution_count": null,
      "outputs": []
    },
    {
      "cell_type": "code",
      "metadata": {
        "id": "o4KI-ggemMBV",
        "colab_type": "code",
        "colab": {}
      },
      "source": [
        "#load in all the files\n",
        "\n",
        "df_7c_1 = pd.read_csv('https://raw.githubusercontent.com/ridhijs/STEM-Away-MLTeam7/0c760690c8098d54c8e18465a3583f493b349260/Data/DF1_team7c.csv')\n",
        "df_7c_2 = pd.read_csv('https://raw.githubusercontent.com/ridhijs/STEM-Away-MLTeam7/0c760690c8098d54c8e18465a3583f493b349260/Data/DF2_team7c.csv')"
      ],
      "execution_count": null,
      "outputs": []
    },
    {
      "cell_type": "code",
      "metadata": {
        "id": "HorREE1TmMBY",
        "colab_type": "code",
        "colab": {}
      },
      "source": [
        "df_7b_1 = pd.read_csv('https://raw.githubusercontent.com/ridhijs/STEM-Away-MLTeam7/MLteam7b/DF1_team7b.csv')\n",
        "df_7b_2 = pd.read_csv('https://raw.githubusercontent.com/ridhijs/STEM-Away-MLTeam7/MLteam7b/DF2_team7b.csv')"
      ],
      "execution_count": null,
      "outputs": []
    },
    {
      "cell_type": "code",
      "metadata": {
        "id": "MckMlM51mMBb",
        "colab_type": "code",
        "colab": {}
      },
      "source": [
        "df_7a_1 = pd.read_csv('https://raw.githubusercontent.com/ridhijs/STEM-Away-MLTeam7/mlteam7a/Data/DF1_team7a.csv')\n",
        "df_7a_2 = pd.read_csv('https://raw.githubusercontent.com/ridhijs/STEM-Away-MLTeam7/mlteam7a/Data/DF2_team7a.csv')"
      ],
      "execution_count": null,
      "outputs": []
    },
    {
      "cell_type": "code",
      "metadata": {
        "id": "0rYiahQimMBd",
        "colab_type": "code",
        "colab": {
          "base_uri": "https://localhost:8080/",
          "height": 195
        },
        "outputId": "1898bac8-5ade-4547-839e-270f5f4da9b8"
      },
      "source": [
        "df_7c_2.head()"
      ],
      "execution_count": null,
      "outputs": [
        {
          "output_type": "execute_result",
          "data": {
            "text/html": [
              "<div>\n",
              "<style scoped>\n",
              "    .dataframe tbody tr th:only-of-type {\n",
              "        vertical-align: middle;\n",
              "    }\n",
              "\n",
              "    .dataframe tbody tr th {\n",
              "        vertical-align: top;\n",
              "    }\n",
              "\n",
              "    .dataframe thead th {\n",
              "        text-align: right;\n",
              "    }\n",
              "</style>\n",
              "<table border=\"1\" class=\"dataframe\">\n",
              "  <thead>\n",
              "    <tr style=\"text-align: right;\">\n",
              "      <th></th>\n",
              "      <th>URL</th>\n",
              "      <th>Response Text</th>\n",
              "    </tr>\n",
              "  </thead>\n",
              "  <tbody>\n",
              "    <tr>\n",
              "      <th>0</th>\n",
              "      <td>https://sellercentral.amazon.com/forums/t/used...</td>\n",
              "      <td>Tagging @Shelf_Cleaning_Capit, @Susan_Amazon</td>\n",
              "    </tr>\n",
              "    <tr>\n",
              "      <th>1</th>\n",
              "      <td>https://sellercentral.amazon.com/forums/t/used...</td>\n",
              "      <td>Too much irrelevant information in the beginni...</td>\n",
              "    </tr>\n",
              "    <tr>\n",
              "      <th>2</th>\n",
              "      <td>https://sellercentral.amazon.com/forums/t/used...</td>\n",
              "      <td>Thank you for the comment. Just to be clear, t...</td>\n",
              "    </tr>\n",
              "    <tr>\n",
              "      <th>3</th>\n",
              "      <td>https://sellercentral.amazon.com/forums/t/acco...</td>\n",
              "      <td>Do you have any other accounts using your addr...</td>\n",
              "    </tr>\n",
              "    <tr>\n",
              "      <th>4</th>\n",
              "      <td>https://sellercentral.amazon.com/forums/t/acco...</td>\n",
              "      <td>Have the same issue here. Account was deactiva...</td>\n",
              "    </tr>\n",
              "  </tbody>\n",
              "</table>\n",
              "</div>"
            ],
            "text/plain": [
              "                                                 URL                                      Response Text\n",
              "0  https://sellercentral.amazon.com/forums/t/used...       Tagging @Shelf_Cleaning_Capit, @Susan_Amazon\n",
              "1  https://sellercentral.amazon.com/forums/t/used...  Too much irrelevant information in the beginni...\n",
              "2  https://sellercentral.amazon.com/forums/t/used...  Thank you for the comment. Just to be clear, t...\n",
              "3  https://sellercentral.amazon.com/forums/t/acco...  Do you have any other accounts using your addr...\n",
              "4  https://sellercentral.amazon.com/forums/t/acco...  Have the same issue here. Account was deactiva..."
            ]
          },
          "metadata": {
            "tags": []
          },
          "execution_count": 5
        }
      ]
    },
    {
      "cell_type": "code",
      "metadata": {
        "id": "apObAoeLmMBg",
        "colab_type": "code",
        "colab": {
          "base_uri": "https://localhost:8080/",
          "height": 195
        },
        "outputId": "996cc274-cea6-4e0c-aafb-b48195650ff6"
      },
      "source": [
        "df_7b_2.head()"
      ],
      "execution_count": null,
      "outputs": [
        {
          "output_type": "execute_result",
          "data": {
            "text/html": [
              "<div>\n",
              "<style scoped>\n",
              "    .dataframe tbody tr th:only-of-type {\n",
              "        vertical-align: middle;\n",
              "    }\n",
              "\n",
              "    .dataframe tbody tr th {\n",
              "        vertical-align: top;\n",
              "    }\n",
              "\n",
              "    .dataframe thead th {\n",
              "        text-align: right;\n",
              "    }\n",
              "</style>\n",
              "<table border=\"1\" class=\"dataframe\">\n",
              "  <thead>\n",
              "    <tr style=\"text-align: right;\">\n",
              "      <th></th>\n",
              "      <th>URL</th>\n",
              "      <th>Response Text</th>\n",
              "    </tr>\n",
              "  </thead>\n",
              "  <tbody>\n",
              "    <tr>\n",
              "      <th>0</th>\n",
              "      <td>https://sellercentral.amazon.com/forums/t/amaz...</td>\n",
              "      <td>DaDude:until I’m absolutely sure the Amazon ba...</td>\n",
              "    </tr>\n",
              "    <tr>\n",
              "      <th>1</th>\n",
              "      <td>https://sellercentral.amazon.com/forums/t/amaz...</td>\n",
              "      <td>Everyone should test their labels. Change a pr...</td>\n",
              "    </tr>\n",
              "    <tr>\n",
              "      <th>2</th>\n",
              "      <td>https://sellercentral.amazon.com/forums/t/wron...</td>\n",
              "      <td>Once you commingle, you never know what seller...</td>\n",
              "    </tr>\n",
              "    <tr>\n",
              "      <th>3</th>\n",
              "      <td>https://sellercentral.amazon.com/forums/t/wron...</td>\n",
              "      <td>I am the only FBA seller for these.</td>\n",
              "    </tr>\n",
              "    <tr>\n",
              "      <th>4</th>\n",
              "      <td>https://sellercentral.amazon.com/forums/t/wron...</td>\n",
              "      <td>Then you need to request a bin check</td>\n",
              "    </tr>\n",
              "  </tbody>\n",
              "</table>\n",
              "</div>"
            ],
            "text/plain": [
              "                                                 URL                                      Response Text\n",
              "0  https://sellercentral.amazon.com/forums/t/amaz...  DaDude:until I’m absolutely sure the Amazon ba...\n",
              "1  https://sellercentral.amazon.com/forums/t/amaz...  Everyone should test their labels. Change a pr...\n",
              "2  https://sellercentral.amazon.com/forums/t/wron...  Once you commingle, you never know what seller...\n",
              "3  https://sellercentral.amazon.com/forums/t/wron...                I am the only FBA seller for these.\n",
              "4  https://sellercentral.amazon.com/forums/t/wron...               Then you need to request a bin check"
            ]
          },
          "metadata": {
            "tags": []
          },
          "execution_count": 6
        }
      ]
    },
    {
      "cell_type": "code",
      "metadata": {
        "id": "7vbic9AumMBj",
        "colab_type": "code",
        "colab": {
          "base_uri": "https://localhost:8080/",
          "height": 195
        },
        "outputId": "8013f0e1-f87b-4e3f-dfc7-bd9f66a553b2"
      },
      "source": [
        "df_7a_2.head()"
      ],
      "execution_count": null,
      "outputs": [
        {
          "output_type": "execute_result",
          "data": {
            "text/html": [
              "<div>\n",
              "<style scoped>\n",
              "    .dataframe tbody tr th:only-of-type {\n",
              "        vertical-align: middle;\n",
              "    }\n",
              "\n",
              "    .dataframe tbody tr th {\n",
              "        vertical-align: top;\n",
              "    }\n",
              "\n",
              "    .dataframe thead th {\n",
              "        text-align: right;\n",
              "    }\n",
              "</style>\n",
              "<table border=\"1\" class=\"dataframe\">\n",
              "  <thead>\n",
              "    <tr style=\"text-align: right;\">\n",
              "      <th></th>\n",
              "      <th>URL</th>\n",
              "      <th>Response Text</th>\n",
              "    </tr>\n",
              "  </thead>\n",
              "  <tbody>\n",
              "    <tr>\n",
              "      <th>0</th>\n",
              "      <td>https://sellercentral.amazon.com/forums/t/imag...</td>\n",
              "      <td>I’m confused. The spreadsheet simply points to...</td>\n",
              "    </tr>\n",
              "    <tr>\n",
              "      <th>1</th>\n",
              "      <td>https://sellercentral.amazon.com/forums/t/prep...</td>\n",
              "      <td>Will I have the ability to add my RMA number t...</td>\n",
              "    </tr>\n",
              "    <tr>\n",
              "      <th>2</th>\n",
              "      <td>https://sellercentral.amazon.com/forums/t/prep...</td>\n",
              "      <td>The option will remain as it currently is</td>\n",
              "    </tr>\n",
              "    <tr>\n",
              "      <th>3</th>\n",
              "      <td>https://sellercentral.amazon.com/forums/t/prep...</td>\n",
              "      <td>Were based in the UK and sell mostly low value...</td>\n",
              "    </tr>\n",
              "    <tr>\n",
              "      <th>4</th>\n",
              "      <td>https://sellercentral.amazon.com/forums/t/pull...</td>\n",
              "      <td>We have the same issue and are very surprised ...</td>\n",
              "    </tr>\n",
              "  </tbody>\n",
              "</table>\n",
              "</div>"
            ],
            "text/plain": [
              "                                                 URL                                      Response Text\n",
              "0  https://sellercentral.amazon.com/forums/t/imag...  I’m confused. The spreadsheet simply points to...\n",
              "1  https://sellercentral.amazon.com/forums/t/prep...  Will I have the ability to add my RMA number t...\n",
              "2  https://sellercentral.amazon.com/forums/t/prep...          The option will remain as it currently is\n",
              "3  https://sellercentral.amazon.com/forums/t/prep...  Were based in the UK and sell mostly low value...\n",
              "4  https://sellercentral.amazon.com/forums/t/pull...  We have the same issue and are very surprised ..."
            ]
          },
          "metadata": {
            "tags": []
          },
          "execution_count": 7
        }
      ]
    },
    {
      "cell_type": "code",
      "metadata": {
        "id": "ai-9XCTfmMBm",
        "colab_type": "code",
        "colab": {
          "base_uri": "https://localhost:8080/",
          "height": 195
        },
        "outputId": "605e75a3-2b7f-48be-f73c-2ad16ad0bd35"
      },
      "source": [
        "df_7c_1.head()"
      ],
      "execution_count": null,
      "outputs": [
        {
          "output_type": "execute_result",
          "data": {
            "text/html": [
              "<div>\n",
              "<style scoped>\n",
              "    .dataframe tbody tr th:only-of-type {\n",
              "        vertical-align: middle;\n",
              "    }\n",
              "\n",
              "    .dataframe tbody tr th {\n",
              "        vertical-align: top;\n",
              "    }\n",
              "\n",
              "    .dataframe thead th {\n",
              "        text-align: right;\n",
              "    }\n",
              "</style>\n",
              "<table border=\"1\" class=\"dataframe\">\n",
              "  <thead>\n",
              "    <tr style=\"text-align: right;\">\n",
              "      <th></th>\n",
              "      <th>Title</th>\n",
              "      <th>Category</th>\n",
              "      <th>Sub-category</th>\n",
              "      <th>Post Text</th>\n",
              "      <th>URL</th>\n",
              "    </tr>\n",
              "  </thead>\n",
              "  <tbody>\n",
              "    <tr>\n",
              "      <th>0</th>\n",
              "      <td>Used Sold As New - Account Review</td>\n",
              "      <td>Account Health</td>\n",
              "      <td>Account Health</td>\n",
              "      <td>Ive reviewed a lot of discussion in this forum...</td>\n",
              "      <td>https://sellercentral.amazon.com/forums/t/used...</td>\n",
              "    </tr>\n",
              "    <tr>\n",
              "      <th>1</th>\n",
              "      <td>Account Suspended After 5 years out of nowhere...</td>\n",
              "      <td>Account Health</td>\n",
              "      <td>Related Accounts</td>\n",
              "      <td>Our brand was suspended about 25 minutes ago. ...</td>\n",
              "      <td>https://sellercentral.amazon.com/forums/t/acco...</td>\n",
              "    </tr>\n",
              "    <tr>\n",
              "      <th>2</th>\n",
              "      <td>Account Suspension after Credit Card Change</td>\n",
              "      <td>Account Health</td>\n",
              "      <td>Account Health</td>\n",
              "      <td>Hello Everyone,\\nI am trying to open an Amazon...</td>\n",
              "      <td>https://sellercentral.amazon.com/forums/t/acco...</td>\n",
              "    </tr>\n",
              "    <tr>\n",
              "      <th>3</th>\n",
              "      <td>Our Seller account has been deactivated</td>\n",
              "      <td>Account Health</td>\n",
              "      <td>Related Accounts</td>\n",
              "      <td>Hi,\\nWe need help. Since last week our seller ...</td>\n",
              "      <td>https://sellercentral.amazon.com/forums/t/our-...</td>\n",
              "    </tr>\n",
              "    <tr>\n",
              "      <th>4</th>\n",
              "      <td>How to Handle Used as New Complaints Version 2</td>\n",
              "      <td>Account Health</td>\n",
              "      <td>Product Condition</td>\n",
              "      <td>This is my second thread regarding used as new...</td>\n",
              "      <td>https://sellercentral.amazon.com/forums/t/how-...</td>\n",
              "    </tr>\n",
              "  </tbody>\n",
              "</table>\n",
              "</div>"
            ],
            "text/plain": [
              "                                               Title  ...                                                URL\n",
              "0                  Used Sold As New - Account Review  ...  https://sellercentral.amazon.com/forums/t/used...\n",
              "1  Account Suspended After 5 years out of nowhere...  ...  https://sellercentral.amazon.com/forums/t/acco...\n",
              "2        Account Suspension after Credit Card Change  ...  https://sellercentral.amazon.com/forums/t/acco...\n",
              "3            Our Seller account has been deactivated  ...  https://sellercentral.amazon.com/forums/t/our-...\n",
              "4     How to Handle Used as New Complaints Version 2  ...  https://sellercentral.amazon.com/forums/t/how-...\n",
              "\n",
              "[5 rows x 5 columns]"
            ]
          },
          "metadata": {
            "tags": []
          },
          "execution_count": 8
        }
      ]
    },
    {
      "cell_type": "code",
      "metadata": {
        "id": "TyEI3nD9mMBp",
        "colab_type": "code",
        "colab": {
          "base_uri": "https://localhost:8080/",
          "height": 195
        },
        "outputId": "5dcfc72e-4787-4762-beb1-0a236ae48cf2"
      },
      "source": [
        "df_7b_1.head()"
      ],
      "execution_count": null,
      "outputs": [
        {
          "output_type": "execute_result",
          "data": {
            "text/html": [
              "<div>\n",
              "<style scoped>\n",
              "    .dataframe tbody tr th:only-of-type {\n",
              "        vertical-align: middle;\n",
              "    }\n",
              "\n",
              "    .dataframe tbody tr th {\n",
              "        vertical-align: top;\n",
              "    }\n",
              "\n",
              "    .dataframe thead th {\n",
              "        text-align: right;\n",
              "    }\n",
              "</style>\n",
              "<table border=\"1\" class=\"dataframe\">\n",
              "  <thead>\n",
              "    <tr style=\"text-align: right;\">\n",
              "      <th></th>\n",
              "      <th>Title</th>\n",
              "      <th>Category</th>\n",
              "      <th>Sub-category</th>\n",
              "      <th>Post Text</th>\n",
              "      <th>URL</th>\n",
              "    </tr>\n",
              "  </thead>\n",
              "  <tbody>\n",
              "    <tr>\n",
              "      <th>0</th>\n",
              "      <td>Amazon Label Scanner</td>\n",
              "      <td>Fulfillment By Amazon</td>\n",
              "      <td>Fulfillment By Amazon</td>\n",
              "      <td>I am trying to check my Amazon FBA labels usin...</td>\n",
              "      <td>https://sellercentral.amazon.com/forums/t/amaz...</td>\n",
              "    </tr>\n",
              "    <tr>\n",
              "      <th>1</th>\n",
              "      <td>6 Weeks from Delivered to Checked-in (Canada)</td>\n",
              "      <td>Fulfillment By Amazon</td>\n",
              "      <td>General FBA Questions</td>\n",
              "      <td>Anyone here experiencing really long check-ins...</td>\n",
              "      <td>https://sellercentral.amazon.com/forums/t/6-we...</td>\n",
              "    </tr>\n",
              "    <tr>\n",
              "      <th>2</th>\n",
              "      <td>Wrong Items Fulfilled</td>\n",
              "      <td>Fulfillment By Amazon</td>\n",
              "      <td>FBA Orders and Customer Service</td>\n",
              "      <td>I have been selling here for just over 6 month...</td>\n",
              "      <td>https://sellercentral.amazon.com/forums/t/wron...</td>\n",
              "    </tr>\n",
              "    <tr>\n",
              "      <th>3</th>\n",
              "      <td>Product Relabeled</td>\n",
              "      <td>Fulfillment By Amazon</td>\n",
              "      <td>General FBA Questions</td>\n",
              "      <td>I sent in a box of items, all the correct coun...</td>\n",
              "      <td>https://sellercentral.amazon.com/forums/t/prod...</td>\n",
              "    </tr>\n",
              "    <tr>\n",
              "      <th>4</th>\n",
              "      <td>IND9 check-in taking ages</td>\n",
              "      <td>Fulfillment By Amazon</td>\n",
              "      <td>Shipping Inventory to Amazon</td>\n",
              "      <td>I’ve sent 40 cartons to IND9 using UPS. They w...</td>\n",
              "      <td>https://sellercentral.amazon.com/forums/t/ind9...</td>\n",
              "    </tr>\n",
              "  </tbody>\n",
              "</table>\n",
              "</div>"
            ],
            "text/plain": [
              "                                           Title  ...                                                URL\n",
              "0                           Amazon Label Scanner  ...  https://sellercentral.amazon.com/forums/t/amaz...\n",
              "1  6 Weeks from Delivered to Checked-in (Canada)  ...  https://sellercentral.amazon.com/forums/t/6-we...\n",
              "2                          Wrong Items Fulfilled  ...  https://sellercentral.amazon.com/forums/t/wron...\n",
              "3                              Product Relabeled  ...  https://sellercentral.amazon.com/forums/t/prod...\n",
              "4                      IND9 check-in taking ages  ...  https://sellercentral.amazon.com/forums/t/ind9...\n",
              "\n",
              "[5 rows x 5 columns]"
            ]
          },
          "metadata": {
            "tags": []
          },
          "execution_count": 9
        }
      ]
    },
    {
      "cell_type": "code",
      "metadata": {
        "id": "dyn6_AE2mMBs",
        "colab_type": "code",
        "colab": {
          "base_uri": "https://localhost:8080/",
          "height": 195
        },
        "outputId": "1da7a379-554d-400b-f116-4fcf290f308b"
      },
      "source": [
        "df_7a_1.head()"
      ],
      "execution_count": null,
      "outputs": [
        {
          "output_type": "execute_result",
          "data": {
            "text/html": [
              "<div>\n",
              "<style scoped>\n",
              "    .dataframe tbody tr th:only-of-type {\n",
              "        vertical-align: middle;\n",
              "    }\n",
              "\n",
              "    .dataframe tbody tr th {\n",
              "        vertical-align: top;\n",
              "    }\n",
              "\n",
              "    .dataframe thead th {\n",
              "        text-align: right;\n",
              "    }\n",
              "</style>\n",
              "<table border=\"1\" class=\"dataframe\">\n",
              "  <thead>\n",
              "    <tr style=\"text-align: right;\">\n",
              "      <th></th>\n",
              "      <th>Title</th>\n",
              "      <th>Category</th>\n",
              "      <th>Sub-category</th>\n",
              "      <th>Post Text</th>\n",
              "      <th>URL</th>\n",
              "    </tr>\n",
              "  </thead>\n",
              "  <tbody>\n",
              "    <tr>\n",
              "      <th>0</th>\n",
              "      <td>Testing requirements in toys and games category</td>\n",
              "      <td>Amazon Custom</td>\n",
              "      <td>Amazon Custom Forum</td>\n",
              "      <td>My product is domino sets for adults. I am the...</td>\n",
              "      <td>https://sellercentral.amazon.com/forums/t/test...</td>\n",
              "    </tr>\n",
              "    <tr>\n",
              "      <th>1</th>\n",
              "      <td>Food and Drug Administration</td>\n",
              "      <td>Amazon Custom</td>\n",
              "      <td>Amazon Custom</td>\n",
              "      <td>Hello, I am on my way to becoming an Amazon de...</td>\n",
              "      <td>https://sellercentral.amazon.com/forums/t/food...</td>\n",
              "    </tr>\n",
              "    <tr>\n",
              "      <th>2</th>\n",
              "      <td>Images Storage for mass upload</td>\n",
              "      <td>Amazon Custom</td>\n",
              "      <td>Amazon Custom</td>\n",
              "      <td>When uploading products with the spreadsheet w...</td>\n",
              "      <td>https://sellercentral.amazon.com/forums/t/imag...</td>\n",
              "    </tr>\n",
              "    <tr>\n",
              "      <th>3</th>\n",
              "      <td>Prepaid Return Label program email clarification</td>\n",
              "      <td>Amazon Custom</td>\n",
              "      <td>Amazon Custom Forum</td>\n",
              "      <td>You may have received an email from Amazon inf...</td>\n",
              "      <td>https://sellercentral.amazon.com/forums/t/prep...</td>\n",
              "    </tr>\n",
              "    <tr>\n",
              "      <th>4</th>\n",
              "      <td>Pulling Amazon Custom Personalizatoin Data fro...</td>\n",
              "      <td>Amazon Custom</td>\n",
              "      <td>Amazon Custom Forum</td>\n",
              "      <td>The problem: Currently Amazon gives you links ...</td>\n",
              "      <td>https://sellercentral.amazon.com/forums/t/pull...</td>\n",
              "    </tr>\n",
              "  </tbody>\n",
              "</table>\n",
              "</div>"
            ],
            "text/plain": [
              "                                               Title  ...                                                URL\n",
              "0    Testing requirements in toys and games category  ...  https://sellercentral.amazon.com/forums/t/test...\n",
              "1                       Food and Drug Administration  ...  https://sellercentral.amazon.com/forums/t/food...\n",
              "2                     Images Storage for mass upload  ...  https://sellercentral.amazon.com/forums/t/imag...\n",
              "3   Prepaid Return Label program email clarification  ...  https://sellercentral.amazon.com/forums/t/prep...\n",
              "4  Pulling Amazon Custom Personalizatoin Data fro...  ...  https://sellercentral.amazon.com/forums/t/pull...\n",
              "\n",
              "[5 rows x 5 columns]"
            ]
          },
          "metadata": {
            "tags": []
          },
          "execution_count": 10
        }
      ]
    },
    {
      "cell_type": "code",
      "metadata": {
        "id": "yvKlnvvVmMBu",
        "colab_type": "code",
        "colab": {
          "base_uri": "https://localhost:8080/",
          "height": 402
        },
        "outputId": "9e59c830-cf2f-4828-9009-22adc7d89020"
      },
      "source": [
        "#create a new dataframe for the first datasets and use new indexing\n",
        "df_all_data_1 = pd.concat([df_7c_1, df_7b_1, df_7a_1], ignore_index = True)\n",
        "\n",
        "df_all_data_1"
      ],
      "execution_count": null,
      "outputs": [
        {
          "output_type": "execute_result",
          "data": {
            "text/html": [
              "<div>\n",
              "<style scoped>\n",
              "    .dataframe tbody tr th:only-of-type {\n",
              "        vertical-align: middle;\n",
              "    }\n",
              "\n",
              "    .dataframe tbody tr th {\n",
              "        vertical-align: top;\n",
              "    }\n",
              "\n",
              "    .dataframe thead th {\n",
              "        text-align: right;\n",
              "    }\n",
              "</style>\n",
              "<table border=\"1\" class=\"dataframe\">\n",
              "  <thead>\n",
              "    <tr style=\"text-align: right;\">\n",
              "      <th></th>\n",
              "      <th>Title</th>\n",
              "      <th>Category</th>\n",
              "      <th>Sub-category</th>\n",
              "      <th>Post Text</th>\n",
              "      <th>URL</th>\n",
              "    </tr>\n",
              "  </thead>\n",
              "  <tbody>\n",
              "    <tr>\n",
              "      <th>0</th>\n",
              "      <td>Used Sold As New - Account Review</td>\n",
              "      <td>Account Health</td>\n",
              "      <td>Account Health</td>\n",
              "      <td>Ive reviewed a lot of discussion in this forum...</td>\n",
              "      <td>https://sellercentral.amazon.com/forums/t/used...</td>\n",
              "    </tr>\n",
              "    <tr>\n",
              "      <th>1</th>\n",
              "      <td>Account Suspended After 5 years out of nowhere...</td>\n",
              "      <td>Account Health</td>\n",
              "      <td>Related Accounts</td>\n",
              "      <td>Our brand was suspended about 25 minutes ago. ...</td>\n",
              "      <td>https://sellercentral.amazon.com/forums/t/acco...</td>\n",
              "    </tr>\n",
              "    <tr>\n",
              "      <th>2</th>\n",
              "      <td>Account Suspension after Credit Card Change</td>\n",
              "      <td>Account Health</td>\n",
              "      <td>Account Health</td>\n",
              "      <td>Hello Everyone,\\nI am trying to open an Amazon...</td>\n",
              "      <td>https://sellercentral.amazon.com/forums/t/acco...</td>\n",
              "    </tr>\n",
              "    <tr>\n",
              "      <th>3</th>\n",
              "      <td>Our Seller account has been deactivated</td>\n",
              "      <td>Account Health</td>\n",
              "      <td>Related Accounts</td>\n",
              "      <td>Hi,\\nWe need help. Since last week our seller ...</td>\n",
              "      <td>https://sellercentral.amazon.com/forums/t/our-...</td>\n",
              "    </tr>\n",
              "    <tr>\n",
              "      <th>4</th>\n",
              "      <td>How to Handle Used as New Complaints Version 2</td>\n",
              "      <td>Account Health</td>\n",
              "      <td>Product Condition</td>\n",
              "      <td>This is my second thread regarding used as new...</td>\n",
              "      <td>https://sellercentral.amazon.com/forums/t/how-...</td>\n",
              "    </tr>\n",
              "    <tr>\n",
              "      <th>...</th>\n",
              "      <td>...</td>\n",
              "      <td>...</td>\n",
              "      <td>...</td>\n",
              "      <td>...</td>\n",
              "      <td>...</td>\n",
              "    </tr>\n",
              "    <tr>\n",
              "      <th>1813</th>\n",
              "      <td>Amazon Custom Program</td>\n",
              "      <td>Amazon Custom</td>\n",
              "      <td>Amazon Custom Forum</td>\n",
              "      <td>Are you applying? Dear Seller, Amazon Custom i...</td>\n",
              "      <td>https://sellercentral.amazon.com/forums/t/amaz...</td>\n",
              "    </tr>\n",
              "    <tr>\n",
              "      <th>1814</th>\n",
              "      <td>Just enabled ‘Amazon Custom’ on my products, a...</td>\n",
              "      <td>Amazon Custom</td>\n",
              "      <td>Amazon Custom Forum</td>\n",
              "      <td>Hi there, I just enabled ‘Amazon Custom’ (for ...</td>\n",
              "      <td>https://sellercentral.amazon.com/forums/t/just...</td>\n",
              "    </tr>\n",
              "    <tr>\n",
              "      <th>1815</th>\n",
              "      <td>Amazon Custom - Refunds. To do, or not to do?</td>\n",
              "      <td>Amazon Custom</td>\n",
              "      <td>Amazon Custom Forum</td>\n",
              "      <td>I am an Amazon “Custom” seller. I have had my ...</td>\n",
              "      <td>https://sellercentral.amazon.com/forums/t/amaz...</td>\n",
              "    </tr>\n",
              "    <tr>\n",
              "      <th>1816</th>\n",
              "      <td>Custom Order Feedback</td>\n",
              "      <td>Amazon Custom</td>\n",
              "      <td>Amazon Custom Forum</td>\n",
              "      <td>I sold a custom item recently and was wonderin...</td>\n",
              "      <td>https://sellercentral.amazon.com/forums/t/cust...</td>\n",
              "    </tr>\n",
              "    <tr>\n",
              "      <th>1817</th>\n",
              "      <td>Amazon custom (personalized products) and thir...</td>\n",
              "      <td>Amazon Custom</td>\n",
              "      <td>Amazon Custom Forum</td>\n",
              "      <td>Wondering if anyone who is currently testing o...</td>\n",
              "      <td>https://sellercentral.amazon.com/forums/t/amaz...</td>\n",
              "    </tr>\n",
              "  </tbody>\n",
              "</table>\n",
              "<p>1818 rows × 5 columns</p>\n",
              "</div>"
            ],
            "text/plain": [
              "                                                  Title  ...                                                URL\n",
              "0                     Used Sold As New - Account Review  ...  https://sellercentral.amazon.com/forums/t/used...\n",
              "1     Account Suspended After 5 years out of nowhere...  ...  https://sellercentral.amazon.com/forums/t/acco...\n",
              "2           Account Suspension after Credit Card Change  ...  https://sellercentral.amazon.com/forums/t/acco...\n",
              "3               Our Seller account has been deactivated  ...  https://sellercentral.amazon.com/forums/t/our-...\n",
              "4        How to Handle Used as New Complaints Version 2  ...  https://sellercentral.amazon.com/forums/t/how-...\n",
              "...                                                 ...  ...                                                ...\n",
              "1813                              Amazon Custom Program  ...  https://sellercentral.amazon.com/forums/t/amaz...\n",
              "1814  Just enabled ‘Amazon Custom’ on my products, a...  ...  https://sellercentral.amazon.com/forums/t/just...\n",
              "1815      Amazon Custom - Refunds. To do, or not to do?  ...  https://sellercentral.amazon.com/forums/t/amaz...\n",
              "1816                              Custom Order Feedback  ...  https://sellercentral.amazon.com/forums/t/cust...\n",
              "1817  Amazon custom (personalized products) and thir...  ...  https://sellercentral.amazon.com/forums/t/amaz...\n",
              "\n",
              "[1818 rows x 5 columns]"
            ]
          },
          "metadata": {
            "tags": []
          },
          "execution_count": 11
        }
      ]
    },
    {
      "cell_type": "code",
      "metadata": {
        "id": "6c14Uq2tmMBx",
        "colab_type": "code",
        "colab": {
          "base_uri": "https://localhost:8080/",
          "height": 402
        },
        "outputId": "9c664794-b59c-4714-e388-8eedb3d7495b"
      },
      "source": [
        "#create a new dataframe for the second datasets and use new indexing\n",
        "df_all_data_2 = pd.concat([df_7c_2, df_7b_2, df_7a_2], ignore_index = True)\n",
        "\n",
        "df_all_data_2"
      ],
      "execution_count": null,
      "outputs": [
        {
          "output_type": "execute_result",
          "data": {
            "text/html": [
              "<div>\n",
              "<style scoped>\n",
              "    .dataframe tbody tr th:only-of-type {\n",
              "        vertical-align: middle;\n",
              "    }\n",
              "\n",
              "    .dataframe tbody tr th {\n",
              "        vertical-align: top;\n",
              "    }\n",
              "\n",
              "    .dataframe thead th {\n",
              "        text-align: right;\n",
              "    }\n",
              "</style>\n",
              "<table border=\"1\" class=\"dataframe\">\n",
              "  <thead>\n",
              "    <tr style=\"text-align: right;\">\n",
              "      <th></th>\n",
              "      <th>URL</th>\n",
              "      <th>Response Text</th>\n",
              "    </tr>\n",
              "  </thead>\n",
              "  <tbody>\n",
              "    <tr>\n",
              "      <th>0</th>\n",
              "      <td>https://sellercentral.amazon.com/forums/t/used...</td>\n",
              "      <td>Tagging @Shelf_Cleaning_Capit, @Susan_Amazon</td>\n",
              "    </tr>\n",
              "    <tr>\n",
              "      <th>1</th>\n",
              "      <td>https://sellercentral.amazon.com/forums/t/used...</td>\n",
              "      <td>Too much irrelevant information in the beginni...</td>\n",
              "    </tr>\n",
              "    <tr>\n",
              "      <th>2</th>\n",
              "      <td>https://sellercentral.amazon.com/forums/t/used...</td>\n",
              "      <td>Thank you for the comment. Just to be clear, t...</td>\n",
              "    </tr>\n",
              "    <tr>\n",
              "      <th>3</th>\n",
              "      <td>https://sellercentral.amazon.com/forums/t/acco...</td>\n",
              "      <td>Do you have any other accounts using your addr...</td>\n",
              "    </tr>\n",
              "    <tr>\n",
              "      <th>4</th>\n",
              "      <td>https://sellercentral.amazon.com/forums/t/acco...</td>\n",
              "      <td>Have the same issue here. Account was deactiva...</td>\n",
              "    </tr>\n",
              "    <tr>\n",
              "      <th>...</th>\n",
              "      <td>...</td>\n",
              "      <td>...</td>\n",
              "    </tr>\n",
              "    <tr>\n",
              "      <th>8225</th>\n",
              "      <td>https://sellercentral.amazon.com/forums/t/amaz...</td>\n",
              "      <td>Thanks for the input. From what I have experie...</td>\n",
              "    </tr>\n",
              "    <tr>\n",
              "      <th>8226</th>\n",
              "      <td>https://sellercentral.amazon.com/forums/t/amaz...</td>\n",
              "      <td>even though custom items cannot be returned as...</td>\n",
              "    </tr>\n",
              "    <tr>\n",
              "      <th>8227</th>\n",
              "      <td>https://sellercentral.amazon.com/forums/t/amaz...</td>\n",
              "      <td>I agree. After this initial learning curve and...</td>\n",
              "    </tr>\n",
              "    <tr>\n",
              "      <th>8228</th>\n",
              "      <td>https://sellercentral.amazon.com/forums/t/cust...</td>\n",
              "      <td>Hey Gravity Glass, Your customer can absolutel...</td>\n",
              "    </tr>\n",
              "    <tr>\n",
              "      <th>8229</th>\n",
              "      <td>https://sellercentral.amazon.com/forums/t/cust...</td>\n",
              "      <td>Great! Thank you for your help!</td>\n",
              "    </tr>\n",
              "  </tbody>\n",
              "</table>\n",
              "<p>8230 rows × 2 columns</p>\n",
              "</div>"
            ],
            "text/plain": [
              "                                                    URL                                      Response Text\n",
              "0     https://sellercentral.amazon.com/forums/t/used...       Tagging @Shelf_Cleaning_Capit, @Susan_Amazon\n",
              "1     https://sellercentral.amazon.com/forums/t/used...  Too much irrelevant information in the beginni...\n",
              "2     https://sellercentral.amazon.com/forums/t/used...  Thank you for the comment. Just to be clear, t...\n",
              "3     https://sellercentral.amazon.com/forums/t/acco...  Do you have any other accounts using your addr...\n",
              "4     https://sellercentral.amazon.com/forums/t/acco...  Have the same issue here. Account was deactiva...\n",
              "...                                                 ...                                                ...\n",
              "8225  https://sellercentral.amazon.com/forums/t/amaz...  Thanks for the input. From what I have experie...\n",
              "8226  https://sellercentral.amazon.com/forums/t/amaz...  even though custom items cannot be returned as...\n",
              "8227  https://sellercentral.amazon.com/forums/t/amaz...  I agree. After this initial learning curve and...\n",
              "8228  https://sellercentral.amazon.com/forums/t/cust...  Hey Gravity Glass, Your customer can absolutel...\n",
              "8229  https://sellercentral.amazon.com/forums/t/cust...                    Great! Thank you for your help!\n",
              "\n",
              "[8230 rows x 2 columns]"
            ]
          },
          "metadata": {
            "tags": []
          },
          "execution_count": 12
        }
      ]
    },
    {
      "cell_type": "code",
      "metadata": {
        "id": "9BK-YSfImMBz",
        "colab_type": "code",
        "colab": {}
      },
      "source": [
        "#drop the null values\n",
        "df_all_data_1 = df_all_data_1.dropna()"
      ],
      "execution_count": null,
      "outputs": []
    },
    {
      "cell_type": "code",
      "metadata": {
        "id": "RNJ54YGbmMB2",
        "colab_type": "code",
        "colab": {}
      },
      "source": [
        "df_all_data_2 = df_all_data_2.dropna()"
      ],
      "execution_count": null,
      "outputs": []
    },
    {
      "cell_type": "code",
      "metadata": {
        "id": "Ge3dAWCfmMB4",
        "colab_type": "code",
        "colab": {
          "base_uri": "https://localhost:8080/",
          "height": 402
        },
        "outputId": "26cb6088-4b69-4ba2-ab05-f5434a736d0a"
      },
      "source": [
        "#just considering the title and category of each post\n",
        "subdata1 = df_all_data_1[['Title', 'Category']]\n",
        "\n",
        "subdata1"
      ],
      "execution_count": null,
      "outputs": [
        {
          "output_type": "execute_result",
          "data": {
            "text/html": [
              "<div>\n",
              "<style scoped>\n",
              "    .dataframe tbody tr th:only-of-type {\n",
              "        vertical-align: middle;\n",
              "    }\n",
              "\n",
              "    .dataframe tbody tr th {\n",
              "        vertical-align: top;\n",
              "    }\n",
              "\n",
              "    .dataframe thead th {\n",
              "        text-align: right;\n",
              "    }\n",
              "</style>\n",
              "<table border=\"1\" class=\"dataframe\">\n",
              "  <thead>\n",
              "    <tr style=\"text-align: right;\">\n",
              "      <th></th>\n",
              "      <th>Title</th>\n",
              "      <th>Category</th>\n",
              "    </tr>\n",
              "  </thead>\n",
              "  <tbody>\n",
              "    <tr>\n",
              "      <th>0</th>\n",
              "      <td>Used Sold As New - Account Review</td>\n",
              "      <td>Account Health</td>\n",
              "    </tr>\n",
              "    <tr>\n",
              "      <th>1</th>\n",
              "      <td>Account Suspended After 5 years out of nowhere...</td>\n",
              "      <td>Account Health</td>\n",
              "    </tr>\n",
              "    <tr>\n",
              "      <th>2</th>\n",
              "      <td>Account Suspension after Credit Card Change</td>\n",
              "      <td>Account Health</td>\n",
              "    </tr>\n",
              "    <tr>\n",
              "      <th>3</th>\n",
              "      <td>Our Seller account has been deactivated</td>\n",
              "      <td>Account Health</td>\n",
              "    </tr>\n",
              "    <tr>\n",
              "      <th>4</th>\n",
              "      <td>How to Handle Used as New Complaints Version 2</td>\n",
              "      <td>Account Health</td>\n",
              "    </tr>\n",
              "    <tr>\n",
              "      <th>...</th>\n",
              "      <td>...</td>\n",
              "      <td>...</td>\n",
              "    </tr>\n",
              "    <tr>\n",
              "      <th>1813</th>\n",
              "      <td>Amazon Custom Program</td>\n",
              "      <td>Amazon Custom</td>\n",
              "    </tr>\n",
              "    <tr>\n",
              "      <th>1814</th>\n",
              "      <td>Just enabled ‘Amazon Custom’ on my products, a...</td>\n",
              "      <td>Amazon Custom</td>\n",
              "    </tr>\n",
              "    <tr>\n",
              "      <th>1815</th>\n",
              "      <td>Amazon Custom - Refunds. To do, or not to do?</td>\n",
              "      <td>Amazon Custom</td>\n",
              "    </tr>\n",
              "    <tr>\n",
              "      <th>1816</th>\n",
              "      <td>Custom Order Feedback</td>\n",
              "      <td>Amazon Custom</td>\n",
              "    </tr>\n",
              "    <tr>\n",
              "      <th>1817</th>\n",
              "      <td>Amazon custom (personalized products) and thir...</td>\n",
              "      <td>Amazon Custom</td>\n",
              "    </tr>\n",
              "  </tbody>\n",
              "</table>\n",
              "<p>1815 rows × 2 columns</p>\n",
              "</div>"
            ],
            "text/plain": [
              "                                                  Title        Category\n",
              "0                     Used Sold As New - Account Review  Account Health\n",
              "1     Account Suspended After 5 years out of nowhere...  Account Health\n",
              "2           Account Suspension after Credit Card Change  Account Health\n",
              "3               Our Seller account has been deactivated  Account Health\n",
              "4        How to Handle Used as New Complaints Version 2  Account Health\n",
              "...                                                 ...             ...\n",
              "1813                              Amazon Custom Program   Amazon Custom\n",
              "1814  Just enabled ‘Amazon Custom’ on my products, a...   Amazon Custom\n",
              "1815      Amazon Custom - Refunds. To do, or not to do?   Amazon Custom\n",
              "1816                              Custom Order Feedback   Amazon Custom\n",
              "1817  Amazon custom (personalized products) and thir...   Amazon Custom\n",
              "\n",
              "[1815 rows x 2 columns]"
            ]
          },
          "metadata": {
            "tags": []
          },
          "execution_count": 15
        }
      ]
    },
    {
      "cell_type": "code",
      "metadata": {
        "id": "B56ZCBjCmMB7",
        "colab_type": "code",
        "colab": {
          "base_uri": "https://localhost:8080/",
          "height": 218
        },
        "outputId": "85b60277-41b6-48a5-e6df-9aa8e36c123e"
      },
      "source": [
        "#let's give a label to our categorical data\n",
        "subdata1['Category'] = subdata1['Category'].astype('category')\n",
        "subdata1['Label'] = subdata1['Category'].cat.codes.astype('int32')"
      ],
      "execution_count": null,
      "outputs": [
        {
          "output_type": "stream",
          "text": [
            "/usr/local/lib/python3.6/dist-packages/ipykernel_launcher.py:2: SettingWithCopyWarning: \n",
            "A value is trying to be set on a copy of a slice from a DataFrame.\n",
            "Try using .loc[row_indexer,col_indexer] = value instead\n",
            "\n",
            "See the caveats in the documentation: https://pandas.pydata.org/pandas-docs/stable/user_guide/indexing.html#returning-a-view-versus-a-copy\n",
            "  \n",
            "/usr/local/lib/python3.6/dist-packages/ipykernel_launcher.py:3: SettingWithCopyWarning: \n",
            "A value is trying to be set on a copy of a slice from a DataFrame.\n",
            "Try using .loc[row_indexer,col_indexer] = value instead\n",
            "\n",
            "See the caveats in the documentation: https://pandas.pydata.org/pandas-docs/stable/user_guide/indexing.html#returning-a-view-versus-a-copy\n",
            "  This is separate from the ipykernel package so we can avoid doing imports until\n"
          ],
          "name": "stderr"
        }
      ]
    },
    {
      "cell_type": "code",
      "metadata": {
        "id": "mbRHCM_HmMB-",
        "colab_type": "code",
        "colab": {
          "base_uri": "https://localhost:8080/",
          "height": 195
        },
        "outputId": "5c97bd91-089e-4819-9626-bd44c74ae6b0"
      },
      "source": [
        "subdata1.sample(5)"
      ],
      "execution_count": null,
      "outputs": [
        {
          "output_type": "execute_result",
          "data": {
            "text/html": [
              "<div>\n",
              "<style scoped>\n",
              "    .dataframe tbody tr th:only-of-type {\n",
              "        vertical-align: middle;\n",
              "    }\n",
              "\n",
              "    .dataframe tbody tr th {\n",
              "        vertical-align: top;\n",
              "    }\n",
              "\n",
              "    .dataframe thead th {\n",
              "        text-align: right;\n",
              "    }\n",
              "</style>\n",
              "<table border=\"1\" class=\"dataframe\">\n",
              "  <thead>\n",
              "    <tr style=\"text-align: right;\">\n",
              "      <th></th>\n",
              "      <th>Title</th>\n",
              "      <th>Category</th>\n",
              "      <th>Label</th>\n",
              "    </tr>\n",
              "  </thead>\n",
              "  <tbody>\n",
              "    <tr>\n",
              "      <th>1750</th>\n",
              "      <td>Otis. and all the wise owls there answering th...</td>\n",
              "      <td>Amazon Custom</td>\n",
              "      <td>1</td>\n",
              "    </tr>\n",
              "    <tr>\n",
              "      <th>1096</th>\n",
              "      <td>How Do I Stop Amazon From Shipping My Items in...</td>\n",
              "      <td>Fulfillment By Amazon</td>\n",
              "      <td>2</td>\n",
              "    </tr>\n",
              "    <tr>\n",
              "      <th>484</th>\n",
              "      <td>Your Amazon seller account has been suspended</td>\n",
              "      <td>Account Health</td>\n",
              "      <td>0</td>\n",
              "    </tr>\n",
              "    <tr>\n",
              "      <th>703</th>\n",
              "      <td>My brother and I cant sell our own patented in...</td>\n",
              "      <td>Account Health</td>\n",
              "      <td>0</td>\n",
              "    </tr>\n",
              "    <tr>\n",
              "      <th>1433</th>\n",
              "      <td>One Product with Color Variation but being Cha...</td>\n",
              "      <td>Fulfillment By Amazon</td>\n",
              "      <td>2</td>\n",
              "    </tr>\n",
              "  </tbody>\n",
              "</table>\n",
              "</div>"
            ],
            "text/plain": [
              "                                                  Title  ... Label\n",
              "1750  Otis. and all the wise owls there answering th...  ...     1\n",
              "1096  How Do I Stop Amazon From Shipping My Items in...  ...     2\n",
              "484       Your Amazon seller account has been suspended  ...     0\n",
              "703   My brother and I cant sell our own patented in...  ...     0\n",
              "1433  One Product with Color Variation but being Cha...  ...     2\n",
              "\n",
              "[5 rows x 3 columns]"
            ]
          },
          "metadata": {
            "tags": []
          },
          "execution_count": 17
        }
      ]
    },
    {
      "cell_type": "code",
      "metadata": {
        "id": "Kv7uxP3umrOX",
        "colab_type": "code",
        "colab": {
          "base_uri": "https://localhost:8080/",
          "height": 588
        },
        "outputId": "1c7b897f-bec5-4541-8c4a-8ce82b6c770a"
      },
      "source": [
        "!pip install transformers"
      ],
      "execution_count": null,
      "outputs": [
        {
          "output_type": "stream",
          "text": [
            "Collecting transformers\n",
            "\u001b[?25l  Downloading https://files.pythonhosted.org/packages/9c/35/1c3f6e62d81f5f0daff1384e6d5e6c5758682a8357ebc765ece2b9def62b/transformers-3.0.0-py3-none-any.whl (754kB)\n",
            "\r\u001b[K     |▍                               | 10kB 17.0MB/s eta 0:00:01\r\u001b[K     |▉                               | 20kB 1.7MB/s eta 0:00:01\r\u001b[K     |█▎                              | 30kB 2.3MB/s eta 0:00:01\r\u001b[K     |█▊                              | 40kB 2.6MB/s eta 0:00:01\r\u001b[K     |██▏                             | 51kB 2.0MB/s eta 0:00:01\r\u001b[K     |██▋                             | 61kB 2.3MB/s eta 0:00:01\r\u001b[K     |███                             | 71kB 2.5MB/s eta 0:00:01\r\u001b[K     |███▌                            | 81kB 2.7MB/s eta 0:00:01\r\u001b[K     |████                            | 92kB 2.9MB/s eta 0:00:01\r\u001b[K     |████▍                           | 102kB 2.8MB/s eta 0:00:01\r\u001b[K     |████▊                           | 112kB 2.8MB/s eta 0:00:01\r\u001b[K     |█████▏                          | 122kB 2.8MB/s eta 0:00:01\r\u001b[K     |█████▋                          | 133kB 2.8MB/s eta 0:00:01\r\u001b[K     |██████                          | 143kB 2.8MB/s eta 0:00:01\r\u001b[K     |██████▌                         | 153kB 2.8MB/s eta 0:00:01\r\u001b[K     |███████                         | 163kB 2.8MB/s eta 0:00:01\r\u001b[K     |███████▍                        | 174kB 2.8MB/s eta 0:00:01\r\u001b[K     |███████▉                        | 184kB 2.8MB/s eta 0:00:01\r\u001b[K     |████████▎                       | 194kB 2.8MB/s eta 0:00:01\r\u001b[K     |████████▊                       | 204kB 2.8MB/s eta 0:00:01\r\u001b[K     |█████████▏                      | 215kB 2.8MB/s eta 0:00:01\r\u001b[K     |█████████▌                      | 225kB 2.8MB/s eta 0:00:01\r\u001b[K     |██████████                      | 235kB 2.8MB/s eta 0:00:01\r\u001b[K     |██████████▍                     | 245kB 2.8MB/s eta 0:00:01\r\u001b[K     |██████████▉                     | 256kB 2.8MB/s eta 0:00:01\r\u001b[K     |███████████▎                    | 266kB 2.8MB/s eta 0:00:01\r\u001b[K     |███████████▊                    | 276kB 2.8MB/s eta 0:00:01\r\u001b[K     |████████████▏                   | 286kB 2.8MB/s eta 0:00:01\r\u001b[K     |████████████▋                   | 296kB 2.8MB/s eta 0:00:01\r\u001b[K     |█████████████                   | 307kB 2.8MB/s eta 0:00:01\r\u001b[K     |█████████████▌                  | 317kB 2.8MB/s eta 0:00:01\r\u001b[K     |██████████████                  | 327kB 2.8MB/s eta 0:00:01\r\u001b[K     |██████████████▎                 | 337kB 2.8MB/s eta 0:00:01\r\u001b[K     |██████████████▊                 | 348kB 2.8MB/s eta 0:00:01\r\u001b[K     |███████████████▏                | 358kB 2.8MB/s eta 0:00:01\r\u001b[K     |███████████████▋                | 368kB 2.8MB/s eta 0:00:01\r\u001b[K     |████████████████                | 378kB 2.8MB/s eta 0:00:01\r\u001b[K     |████████████████▌               | 389kB 2.8MB/s eta 0:00:01\r\u001b[K     |█████████████████               | 399kB 2.8MB/s eta 0:00:01\r\u001b[K     |█████████████████▍              | 409kB 2.8MB/s eta 0:00:01\r\u001b[K     |█████████████████▉              | 419kB 2.8MB/s eta 0:00:01\r\u001b[K     |██████████████████▎             | 430kB 2.8MB/s eta 0:00:01\r\u001b[K     |██████████████████▊             | 440kB 2.8MB/s eta 0:00:01\r\u001b[K     |███████████████████             | 450kB 2.8MB/s eta 0:00:01\r\u001b[K     |███████████████████▌            | 460kB 2.8MB/s eta 0:00:01\r\u001b[K     |████████████████████            | 471kB 2.8MB/s eta 0:00:01\r\u001b[K     |████████████████████▍           | 481kB 2.8MB/s eta 0:00:01\r\u001b[K     |████████████████████▉           | 491kB 2.8MB/s eta 0:00:01\r\u001b[K     |█████████████████████▎          | 501kB 2.8MB/s eta 0:00:01\r\u001b[K     |█████████████████████▊          | 512kB 2.8MB/s eta 0:00:01\r\u001b[K     |██████████████████████▏         | 522kB 2.8MB/s eta 0:00:01\r\u001b[K     |██████████████████████▋         | 532kB 2.8MB/s eta 0:00:01\r\u001b[K     |███████████████████████         | 542kB 2.8MB/s eta 0:00:01\r\u001b[K     |███████████████████████▌        | 552kB 2.8MB/s eta 0:00:01\r\u001b[K     |███████████████████████▉        | 563kB 2.8MB/s eta 0:00:01\r\u001b[K     |████████████████████████▎       | 573kB 2.8MB/s eta 0:00:01\r\u001b[K     |████████████████████████▊       | 583kB 2.8MB/s eta 0:00:01\r\u001b[K     |█████████████████████████▏      | 593kB 2.8MB/s eta 0:00:01\r\u001b[K     |█████████████████████████▋      | 604kB 2.8MB/s eta 0:00:01\r\u001b[K     |██████████████████████████      | 614kB 2.8MB/s eta 0:00:01\r\u001b[K     |██████████████████████████▌     | 624kB 2.8MB/s eta 0:00:01\r\u001b[K     |███████████████████████████     | 634kB 2.8MB/s eta 0:00:01\r\u001b[K     |███████████████████████████▍    | 645kB 2.8MB/s eta 0:00:01\r\u001b[K     |███████████████████████████▉    | 655kB 2.8MB/s eta 0:00:01\r\u001b[K     |████████████████████████████▎   | 665kB 2.8MB/s eta 0:00:01\r\u001b[K     |████████████████████████████▋   | 675kB 2.8MB/s eta 0:00:01\r\u001b[K     |█████████████████████████████   | 686kB 2.8MB/s eta 0:00:01\r\u001b[K     |█████████████████████████████▌  | 696kB 2.8MB/s eta 0:00:01\r\u001b[K     |██████████████████████████████  | 706kB 2.8MB/s eta 0:00:01\r\u001b[K     |██████████████████████████████▍ | 716kB 2.8MB/s eta 0:00:01\r\u001b[K     |██████████████████████████████▉ | 727kB 2.8MB/s eta 0:00:01\r\u001b[K     |███████████████████████████████▎| 737kB 2.8MB/s eta 0:00:01\r\u001b[K     |███████████████████████████████▊| 747kB 2.8MB/s eta 0:00:01\r\u001b[K     |████████████████████████████████| 757kB 2.8MB/s \n",
            "\u001b[?25hRequirement already satisfied: filelock in /usr/local/lib/python3.6/dist-packages (from transformers) (3.0.12)\n",
            "Requirement already satisfied: tqdm>=4.27 in /usr/local/lib/python3.6/dist-packages (from transformers) (4.41.1)\n",
            "Requirement already satisfied: packaging in /usr/local/lib/python3.6/dist-packages (from transformers) (20.4)\n",
            "Requirement already satisfied: numpy in /usr/local/lib/python3.6/dist-packages (from transformers) (1.18.5)\n",
            "Collecting sentencepiece\n",
            "\u001b[?25l  Downloading https://files.pythonhosted.org/packages/d4/a4/d0a884c4300004a78cca907a6ff9a5e9fe4f090f5d95ab341c53d28cbc58/sentencepiece-0.1.91-cp36-cp36m-manylinux1_x86_64.whl (1.1MB)\n",
            "\u001b[K     |████████████████████████████████| 1.1MB 13.6MB/s \n",
            "\u001b[?25hCollecting tokenizers==0.8.0-rc4\n",
            "\u001b[?25l  Downloading https://files.pythonhosted.org/packages/e8/bd/e5abec46af977c8a1375c1dca7cb1e5b3ec392ef279067af7f6bc50491a0/tokenizers-0.8.0rc4-cp36-cp36m-manylinux1_x86_64.whl (3.0MB)\n",
            "\u001b[K     |████████████████████████████████| 3.0MB 18.7MB/s \n",
            "\u001b[?25hRequirement already satisfied: dataclasses; python_version < \"3.7\" in /usr/local/lib/python3.6/dist-packages (from transformers) (0.7)\n",
            "Requirement already satisfied: requests in /usr/local/lib/python3.6/dist-packages (from transformers) (2.23.0)\n",
            "Requirement already satisfied: regex!=2019.12.17 in /usr/local/lib/python3.6/dist-packages (from transformers) (2019.12.20)\n",
            "Collecting sacremoses\n",
            "\u001b[?25l  Downloading https://files.pythonhosted.org/packages/7d/34/09d19aff26edcc8eb2a01bed8e98f13a1537005d31e95233fd48216eed10/sacremoses-0.0.43.tar.gz (883kB)\n",
            "\u001b[K     |████████████████████████████████| 890kB 36.6MB/s \n",
            "\u001b[?25hRequirement already satisfied: six in /usr/local/lib/python3.6/dist-packages (from packaging->transformers) (1.12.0)\n",
            "Requirement already satisfied: pyparsing>=2.0.2 in /usr/local/lib/python3.6/dist-packages (from packaging->transformers) (2.4.7)\n",
            "Requirement already satisfied: idna<3,>=2.5 in /usr/local/lib/python3.6/dist-packages (from requests->transformers) (2.9)\n",
            "Requirement already satisfied: chardet<4,>=3.0.2 in /usr/local/lib/python3.6/dist-packages (from requests->transformers) (3.0.4)\n",
            "Requirement already satisfied: certifi>=2017.4.17 in /usr/local/lib/python3.6/dist-packages (from requests->transformers) (2020.6.20)\n",
            "Requirement already satisfied: urllib3!=1.25.0,!=1.25.1,<1.26,>=1.21.1 in /usr/local/lib/python3.6/dist-packages (from requests->transformers) (1.24.3)\n",
            "Requirement already satisfied: click in /usr/local/lib/python3.6/dist-packages (from sacremoses->transformers) (7.1.2)\n",
            "Requirement already satisfied: joblib in /usr/local/lib/python3.6/dist-packages (from sacremoses->transformers) (0.15.1)\n",
            "Building wheels for collected packages: sacremoses\n",
            "  Building wheel for sacremoses (setup.py) ... \u001b[?25l\u001b[?25hdone\n",
            "  Created wheel for sacremoses: filename=sacremoses-0.0.43-cp36-none-any.whl size=893260 sha256=7511d343f458acfd5e94c24564fe5d349fb460a0aef86dce194d021ddda28693\n",
            "  Stored in directory: /root/.cache/pip/wheels/29/3c/fd/7ce5c3f0666dab31a50123635e6fb5e19ceb42ce38d4e58f45\n",
            "Successfully built sacremoses\n",
            "Installing collected packages: sentencepiece, tokenizers, sacremoses, transformers\n",
            "Successfully installed sacremoses-0.0.43 sentencepiece-0.1.91 tokenizers-0.8.0rc4 transformers-3.0.0\n"
          ],
          "name": "stdout"
        }
      ]
    },
    {
      "cell_type": "code",
      "metadata": {
        "id": "gQDHFUXqmMCB",
        "colab_type": "code",
        "colab": {}
      },
      "source": [
        "import numpy as np\n",
        "import torch\n",
        "import transformers as ppb\n",
        "import warnings\n",
        "warnings.filterwarnings('ignore')\n",
        "\n",
        "from sklearn.model_selection import train_test_split\n",
        "from sklearn.linear_model import LogisticRegression\n",
        "from sklearn.model_selection import cross_val_score\n",
        "\n",
        "from transformers import DistilBertTokenizer"
      ],
      "execution_count": null,
      "outputs": []
    },
    {
      "cell_type": "markdown",
      "metadata": {
        "id": "k-CpWYHrmMCE",
        "colab_type": "text"
      },
      "source": [
        "### DistilBERT"
      ]
    },
    {
      "cell_type": "code",
      "metadata": {
        "id": "ssE2HPZ_mMCF",
        "colab_type": "code",
        "colab": {
          "base_uri": "https://localhost:8080/",
          "height": 163,
          "referenced_widgets": [
            "928b6d708f0e4420a397793f84131876",
            "ce06423656174c56b28a5257533c1d60",
            "007056918ff84dc18c4ed7d314c6fd56",
            "5584b5dd54cb40aa99853b1429e451d9",
            "d91a56c8ed63462b87d47491b2cfdb92",
            "00f6d1005cc8448ba42cdc13ab98266a",
            "fddb7b9a3af54a3eabf48e1ef4a0110a",
            "1facaac2f79d4a6ea56d60b381b7333d",
            "d6f366d81f5148349fa2a5547542000f",
            "e5776cc2186548faa7bd03a36170f716",
            "c99f5e0f371d4c2bbd8fade40480cda2",
            "7696b2184b52445a9e86cf8ae8415629",
            "7e868c7e7ccd4b6aae22a070aa5aef38",
            "f38cff1a6a0c48c4a046807016c7d72e",
            "bbc9370aad1749a8affb7d73f5b26520",
            "e03ce970e38349849cb22c7411cdb89b",
            "92dfecd742014f18a59da4281cf28a64",
            "00fab36d408549e2a359316f3309acd2",
            "53a9c52de6a34e838919cde3d6185c94",
            "a057ddc7d14647968ecfc059a4e52674",
            "c518a3ca44344a23ac27cfa70b326d79",
            "e5fd2fb236f14f709cb5f698cab8bbc9",
            "19c7cbda8bf94a3c98cb4930b4cfd2e4",
            "14a86923588b4e4baba737cda11d4e8b"
          ]
        },
        "outputId": "948abf8c-39bf-4ad0-9760-a2064c7955e1"
      },
      "source": [
        "#DistilBert\n",
        "model_class, tokenizer_class, pretrained_weights = (ppb.DistilBertModel, ppb.DistilBertTokenizer, 'distilbert-base-uncased')\n",
        "\n",
        "#load pretrained model/tokenizer\n",
        "tokenizer = tokenizer_class.from_pretrained(pretrained_weights)\n",
        "model = model_class.from_pretrained(pretrained_weights)"
      ],
      "execution_count": null,
      "outputs": [
        {
          "output_type": "display_data",
          "data": {
            "application/vnd.jupyter.widget-view+json": {
              "model_id": "928b6d708f0e4420a397793f84131876",
              "version_minor": 0,
              "version_major": 2
            },
            "text/plain": [
              "HBox(children=(FloatProgress(value=0.0, description='Downloading', max=231508.0, style=ProgressStyle(descripti…"
            ]
          },
          "metadata": {
            "tags": []
          }
        },
        {
          "output_type": "stream",
          "text": [
            "\n"
          ],
          "name": "stdout"
        },
        {
          "output_type": "display_data",
          "data": {
            "application/vnd.jupyter.widget-view+json": {
              "model_id": "d6f366d81f5148349fa2a5547542000f",
              "version_minor": 0,
              "version_major": 2
            },
            "text/plain": [
              "HBox(children=(FloatProgress(value=0.0, description='Downloading', max=442.0, style=ProgressStyle(description_…"
            ]
          },
          "metadata": {
            "tags": []
          }
        },
        {
          "output_type": "stream",
          "text": [
            "\n"
          ],
          "name": "stdout"
        },
        {
          "output_type": "display_data",
          "data": {
            "application/vnd.jupyter.widget-view+json": {
              "model_id": "92dfecd742014f18a59da4281cf28a64",
              "version_minor": 0,
              "version_major": 2
            },
            "text/plain": [
              "HBox(children=(FloatProgress(value=0.0, description='Downloading', max=267967963.0, style=ProgressStyle(descri…"
            ]
          },
          "metadata": {
            "tags": []
          }
        },
        {
          "output_type": "stream",
          "text": [
            "\n"
          ],
          "name": "stdout"
        }
      ]
    },
    {
      "cell_type": "markdown",
      "metadata": {
        "id": "fYZ8T_almMCH",
        "colab_type": "text"
      },
      "source": [
        "### Tokenize"
      ]
    },
    {
      "cell_type": "code",
      "metadata": {
        "id": "WBtMVhetmMCH",
        "colab_type": "code",
        "colab": {}
      },
      "source": [
        "tokenized = subdata1['Title'].apply((lambda x: tokenizer.encode(x, add_special_tokens = True)))"
      ],
      "execution_count": null,
      "outputs": []
    },
    {
      "cell_type": "code",
      "metadata": {
        "id": "IZmli-UtmMCK",
        "colab_type": "code",
        "colab": {
          "base_uri": "https://localhost:8080/",
          "height": 218
        },
        "outputId": "4e446102-2ada-4d8c-b06e-be79d76ad1a0"
      },
      "source": [
        "tokenized"
      ],
      "execution_count": null,
      "outputs": [
        {
          "output_type": "execute_result",
          "data": {
            "text/plain": [
              "0       [101, 2109, 2853, 2004, 2047, 1011, 4070, 3319...\n",
              "1       [101, 4070, 6731, 2044, 1019, 2086, 2041, 1997...\n",
              "2          [101, 4070, 8636, 2044, 4923, 4003, 2689, 102]\n",
              "3       [101, 2256, 14939, 4070, 2038, 2042, 26709, 65...\n",
              "4       [101, 2129, 2000, 5047, 2109, 2004, 2047, 1082...\n",
              "                              ...                        \n",
              "1813                         [101, 9733, 7661, 2565, 102]\n",
              "1814    [101, 2074, 9124, 1520, 9733, 7661, 1521, 2006...\n",
              "1815    [101, 9733, 7661, 1011, 25416, 26698, 1012, 20...\n",
              "1816                        [101, 7661, 2344, 12247, 102]\n",
              "1817    [101, 9733, 7661, 1006, 3167, 3550, 3688, 1007...\n",
              "Name: Title, Length: 1815, dtype: object"
            ]
          },
          "metadata": {
            "tags": []
          },
          "execution_count": 23
        }
      ]
    },
    {
      "cell_type": "markdown",
      "metadata": {
        "id": "nEy-e17FmMCM",
        "colab_type": "text"
      },
      "source": [
        "### Padding"
      ]
    },
    {
      "cell_type": "code",
      "metadata": {
        "id": "eROebtFLmMCM",
        "colab_type": "code",
        "colab": {}
      },
      "source": [
        "max_len = 0\n",
        "for i in tokenized.values:\n",
        "    if len(i) > max_len:\n",
        "        max_len = len(i)\n",
        "        \n",
        "padded = np.array([i + [0]*(max_len - len(i)) for i in tokenized.values])"
      ],
      "execution_count": null,
      "outputs": []
    },
    {
      "cell_type": "code",
      "metadata": {
        "id": "40UXGT86mMCO",
        "colab_type": "code",
        "colab": {
          "base_uri": "https://localhost:8080/",
          "height": 34
        },
        "outputId": "89ede721-aace-4feb-aa2c-369f1db0de3c"
      },
      "source": [
        "np.array(padded).shape"
      ],
      "execution_count": null,
      "outputs": [
        {
          "output_type": "execute_result",
          "data": {
            "text/plain": [
              "(1815, 46)"
            ]
          },
          "metadata": {
            "tags": []
          },
          "execution_count": 25
        }
      ]
    },
    {
      "cell_type": "markdown",
      "metadata": {
        "id": "23nvdT7XmMCR",
        "colab_type": "text"
      },
      "source": [
        "### Masking"
      ]
    },
    {
      "cell_type": "code",
      "metadata": {
        "id": "FWo14jq3mMCR",
        "colab_type": "code",
        "colab": {
          "base_uri": "https://localhost:8080/",
          "height": 34
        },
        "outputId": "a50b8654-54ea-4f48-89ab-e0d5b63606f2"
      },
      "source": [
        "attention_mask = np.where(padded != 0, 1, 0)\n",
        "attention_mask.shape"
      ],
      "execution_count": null,
      "outputs": [
        {
          "output_type": "execute_result",
          "data": {
            "text/plain": [
              "(1815, 46)"
            ]
          },
          "metadata": {
            "tags": []
          },
          "execution_count": 26
        }
      ]
    },
    {
      "cell_type": "markdown",
      "metadata": {
        "id": "rYMb2TFsmMCU",
        "colab_type": "text"
      },
      "source": [
        "### Implement BERT"
      ]
    },
    {
      "cell_type": "code",
      "metadata": {
        "id": "a-1aSk4tmMCV",
        "colab_type": "code",
        "colab": {}
      },
      "source": [
        "input_ids = torch.tensor(padded)\n",
        "attention_mask = torch.tensor(attention_mask)\n",
        "\n",
        "with torch.no_grad():\n",
        "    last_hidden_states = model(input_ids, attention_mask = attention_mask)"
      ],
      "execution_count": null,
      "outputs": []
    },
    {
      "cell_type": "code",
      "metadata": {
        "id": "npf-3IcrmMCX",
        "colab_type": "code",
        "colab": {
          "base_uri": "https://localhost:8080/",
          "height": 840
        },
        "outputId": "7686e2c6-c640-4054-b8c4-d4f11e5fc85a"
      },
      "source": [
        "last_hidden_states"
      ],
      "execution_count": null,
      "outputs": [
        {
          "output_type": "execute_result",
          "data": {
            "text/plain": [
              "(tensor([[[-0.2987, -0.1951, -0.2050,  ..., -0.3205,  0.0079,  0.2928],\n",
              "          [ 0.1118,  0.1722, -0.1689,  ..., -0.2847,  0.3555,  0.0911],\n",
              "          [ 0.0171, -0.3881,  0.1743,  ..., -0.4270, -0.3054,  0.0425],\n",
              "          ...,\n",
              "          [ 0.2110, -0.0167,  0.0052,  ..., -0.0079, -0.2847,  0.0301],\n",
              "          [ 0.1501, -0.1457,  0.1771,  ..., -0.1131, -0.1022,  0.1141],\n",
              "          [ 0.3113, -0.1613,  0.1510,  ..., -0.0960, -0.1376,  0.0273]],\n",
              " \n",
              "         [[-0.2555, -0.2464, -0.0091,  ..., -0.2630,  0.1791,  0.2592],\n",
              "          [ 0.2396, -0.2908,  0.0894,  ..., -0.0704,  0.1717,  0.1895],\n",
              "          [-0.0816, -0.0418,  0.1850,  ..., -0.4769, -0.2043, -0.2650],\n",
              "          ...,\n",
              "          [-0.0447, -0.2475,  0.2535,  ...,  0.0893, -0.4130,  0.0915],\n",
              "          [-0.0336, -0.2031,  0.1130,  ...,  0.1216, -0.3515,  0.1255],\n",
              "          [-0.0360, -0.1804,  0.1136,  ...,  0.1059, -0.3022,  0.1682]],\n",
              " \n",
              "         [[-0.2024, -0.1282, -0.1994,  ..., -0.2429, -0.2209,  0.3531],\n",
              "          [ 0.1824, -0.4550, -0.1725,  ..., -0.1348,  0.1419,  0.5311],\n",
              "          [-0.0170,  0.0417, -0.2440,  ..., -0.4705, -0.3991, -0.1780],\n",
              "          ...,\n",
              "          [-0.1278, -0.1291,  0.3737,  ..., -0.2205, -0.3887,  0.2048],\n",
              "          [-0.0105, -0.2001,  0.3951,  ..., -0.2246, -0.4060,  0.2566],\n",
              "          [ 0.1919, -0.2753,  0.3808,  ..., -0.1886, -0.4117,  0.2402]],\n",
              " \n",
              "         ...,\n",
              " \n",
              "         [[-0.0316, -0.1254, -0.0988,  ..., -0.0641,  0.3857,  0.3834],\n",
              "          [ 0.4266, -0.2145,  0.0527,  ...,  0.0224,  0.4402,  0.1120],\n",
              "          [ 0.4974, -0.5361,  0.0290,  ..., -0.1108, -0.0824, -0.1010],\n",
              "          ...,\n",
              "          [ 0.4292,  0.1078,  0.1496,  ..., -0.0290, -0.2092, -0.2585],\n",
              "          [ 0.1076, -0.2461,  0.1349,  ...,  0.2481,  0.0547, -0.0006],\n",
              "          [-0.1910, -0.0065,  0.2909,  ...,  0.2989,  0.2832,  0.0913]],\n",
              " \n",
              "         [[-0.2523, -0.2330,  0.0627,  ..., -0.1998, -0.0818,  0.3965],\n",
              "          [ 0.2306, -0.5382,  0.0867,  ..., -0.1152, -0.0467, -0.1011],\n",
              "          [ 0.0922, -0.4961,  0.2859,  ..., -0.1653, -0.0226,  0.3178],\n",
              "          ...,\n",
              "          [ 0.0329, -0.1056,  0.0853,  ..., -0.1147, -0.3852,  0.1223],\n",
              "          [ 0.0683, -0.1228,  0.1159,  ..., -0.1156, -0.3935,  0.1371],\n",
              "          [ 0.0842, -0.1133,  0.1323,  ..., -0.1185, -0.3683,  0.1341]],\n",
              " \n",
              "         [[-0.3352, -0.2128, -0.1000,  ..., -0.1953,  0.0723,  0.2778],\n",
              "          [ 0.1526, -0.2770,  0.1494,  ...,  0.1289,  0.4236,  0.1828],\n",
              "          [ 0.5031, -0.5373,  0.2348,  ..., -0.2980, -0.1258, -0.1261],\n",
              "          ...,\n",
              "          [-0.0384, -0.0280,  0.0772,  ..., -0.0402, -0.2106,  0.0827],\n",
              "          [-0.1202,  0.0281,  0.2737,  ..., -0.1292, -0.0513,  0.1174],\n",
              "          [ 0.0332, -0.0732,  0.1348,  ..., -0.0903, -0.1369,  0.1073]]]),)"
            ]
          },
          "metadata": {
            "tags": []
          },
          "execution_count": 28
        }
      ]
    },
    {
      "cell_type": "code",
      "metadata": {
        "id": "syAq_tEHn3Pe",
        "colab_type": "code",
        "colab": {}
      },
      "source": [
        ""
      ],
      "execution_count": null,
      "outputs": []
    }
  ]
}