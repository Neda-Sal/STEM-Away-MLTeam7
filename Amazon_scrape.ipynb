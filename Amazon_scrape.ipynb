{
 "cells": [
  {
   "cell_type": "code",
   "execution_count": 1,
   "metadata": {},
   "outputs": [],
   "source": [
    "from selenium import webdriver\n",
    "import selenium\n",
    "from selenium.webdriver.common.keys import Keys\n",
    "import time\n",
    "import pandas as pd"
   ]
  },
  {
   "cell_type": "code",
   "execution_count": 2,
   "metadata": {},
   "outputs": [],
   "source": [
    "driver = webdriver.Chrome()\n",
    "driver.set_page_load_timeout(15)\n",
    "driver.get('https://sellercentral.amazon.com/forums/c/account-health')\n",
    "\n",
    "for i in range(0,3):\n",
    "    driver.execute_script(\"window.scrollTo(0, document.body.scrollHeight);\")\n",
    "    time.sleep(3)\n",
    "\n",
    "data = driver.find_elements_by_css_selector('a[class = \"title raw-link raw-topic-link\"]')\n",
    "titles = [x.text for x in data]\n",
    "links = [x.get_attribute('href') for x in data]\n",
    "\n",
    "data_subcat = driver.find_elements_by_css_selector('span[class = \"category-name\"]')\n",
    "sub_cats = [x.text for x in data_subcat[2:]]\n",
    "\n",
    "contents = []\n",
    "for link in links:\n",
    "    driver.get(link)\n",
    "    data = driver.find_elements_by_css_selector('div[class = \"cooked\"]')\n",
    "    content_tempo = [x.text.replace('\\n', ' ') for x in data]\n",
    "    contents.append(content_tempo)\n",
    "\n",
    "time.sleep(5)\n",
    "driver.quit()"
   ]
  },
  {
   "cell_type": "code",
   "execution_count": 3,
   "metadata": {},
   "outputs": [],
   "source": [
    "posts = []\n",
    "responses = []\n",
    "for line in contents:\n",
    "    posts.append(line[0])\n",
    "    responses.append(line[1:])"
   ]
  },
  {
   "cell_type": "code",
   "execution_count": 4,
   "metadata": {},
   "outputs": [],
   "source": [
    "def create_response_df(urls, resps):\n",
    "    column_names = ['URL', 'Response Text']\n",
    "    df_resps = pd.DataFrame(columns = column_names)\n",
    "    for url,line in zip(urls, resps):\n",
    "        n = len(line)\n",
    "        sub_urls = [url] * n\n",
    "        new_df = pd.DataFrame(list(zip(sub_urls, line)), columns = column_names)\n",
    "        df_resps = pd.concat([df_resps, new_df])\n",
    "    return df_resps"
   ]
  },
  {
   "cell_type": "code",
   "execution_count": 5,
   "metadata": {},
   "outputs": [],
   "source": [
    "df_main = pd.DataFrame(titles, columns=['Title'])\n",
    "df_main['Category'] = 'Account Health'\n",
    "df_main['Sub-category'] = sub_cats\n",
    "df_main['Post Text'] = posts\n",
    "df_main['URL'] = links"
   ]
  },
  {
   "cell_type": "code",
   "execution_count": 6,
   "metadata": {},
   "outputs": [
    {
     "data": {
      "text/html": [
       "<div>\n",
       "<style scoped>\n",
       "    .dataframe tbody tr th:only-of-type {\n",
       "        vertical-align: middle;\n",
       "    }\n",
       "\n",
       "    .dataframe tbody tr th {\n",
       "        vertical-align: top;\n",
       "    }\n",
       "\n",
       "    .dataframe thead th {\n",
       "        text-align: right;\n",
       "    }\n",
       "</style>\n",
       "<table border=\"1\" class=\"dataframe\">\n",
       "  <thead>\n",
       "    <tr style=\"text-align: right;\">\n",
       "      <th></th>\n",
       "      <th>Title</th>\n",
       "      <th>Category</th>\n",
       "      <th>Sub-category</th>\n",
       "      <th>Post Text</th>\n",
       "      <th>URL</th>\n",
       "    </tr>\n",
       "  </thead>\n",
       "  <tbody>\n",
       "    <tr>\n",
       "      <th>0</th>\n",
       "      <td>Unfounded Suspected IP Violations</td>\n",
       "      <td>Account Health</td>\n",
       "      <td>Intellectual Property</td>\n",
       "      <td>I had a listing removed by bot (not a complain...</td>\n",
       "      <td>https://sellercentral.amazon.com/forums/t/unfo...</td>\n",
       "    </tr>\n",
       "    <tr>\n",
       "      <th>1</th>\n",
       "      <td>3 Asin suspend - pls seller performance team a...</td>\n",
       "      <td>Account Health</td>\n",
       "      <td>Product Authenticity</td>\n",
       "      <td>Hi. It was the new account. I sent a total of ...</td>\n",
       "      <td>https://sellercentral.amazon.com/forums/t/3-as...</td>\n",
       "    </tr>\n",
       "    <tr>\n",
       "      <th>2</th>\n",
       "      <td>Amazon Covid 19 Bot Has Gotten Ridiculous</td>\n",
       "      <td>Account Health</td>\n",
       "      <td>Restricted Products</td>\n",
       "      <td>We have been selling dietary supplements on Am...</td>\n",
       "      <td>https://sellercentral.amazon.com/forums/t/amaz...</td>\n",
       "    </tr>\n",
       "    <tr>\n",
       "      <th>3</th>\n",
       "      <td>So this is how it is</td>\n",
       "      <td>Account Health</td>\n",
       "      <td>Account Health</td>\n",
       "      <td>I have been selling on Amazon for 3 years now....</td>\n",
       "      <td>https://sellercentral.amazon.com/forums/t/so-t...</td>\n",
       "    </tr>\n",
       "    <tr>\n",
       "      <th>4</th>\n",
       "      <td>Account Suspended After 5 years out of nowhere...</td>\n",
       "      <td>Account Health</td>\n",
       "      <td>Related Accounts</td>\n",
       "      <td>Our brand was suspended about 25 minutes ago. ...</td>\n",
       "      <td>https://sellercentral.amazon.com/forums/t/acco...</td>\n",
       "    </tr>\n",
       "  </tbody>\n",
       "</table>\n",
       "</div>"
      ],
      "text/plain": [
       "                                               Title        Category  \\\n",
       "0                  Unfounded Suspected IP Violations  Account Health   \n",
       "1  3 Asin suspend - pls seller performance team a...  Account Health   \n",
       "2          Amazon Covid 19 Bot Has Gotten Ridiculous  Account Health   \n",
       "3                               So this is how it is  Account Health   \n",
       "4  Account Suspended After 5 years out of nowhere...  Account Health   \n",
       "\n",
       "            Sub-category                                          Post Text  \\\n",
       "0  Intellectual Property  I had a listing removed by bot (not a complain...   \n",
       "1   Product Authenticity  Hi. It was the new account. I sent a total of ...   \n",
       "2    Restricted Products  We have been selling dietary supplements on Am...   \n",
       "3         Account Health  I have been selling on Amazon for 3 years now....   \n",
       "4       Related Accounts  Our brand was suspended about 25 minutes ago. ...   \n",
       "\n",
       "                                                 URL  \n",
       "0  https://sellercentral.amazon.com/forums/t/unfo...  \n",
       "1  https://sellercentral.amazon.com/forums/t/3-as...  \n",
       "2  https://sellercentral.amazon.com/forums/t/amaz...  \n",
       "3  https://sellercentral.amazon.com/forums/t/so-t...  \n",
       "4  https://sellercentral.amazon.com/forums/t/acco...  "
      ]
     },
     "execution_count": 6,
     "metadata": {},
     "output_type": "execute_result"
    }
   ],
   "source": [
    "df_main.head()"
   ]
  },
  {
   "cell_type": "code",
   "execution_count": 7,
   "metadata": {},
   "outputs": [],
   "source": [
    "df_responses = create_response_df(links, responses)"
   ]
  },
  {
   "cell_type": "code",
   "execution_count": 8,
   "metadata": {},
   "outputs": [
    {
     "data": {
      "text/html": [
       "<div>\n",
       "<style scoped>\n",
       "    .dataframe tbody tr th:only-of-type {\n",
       "        vertical-align: middle;\n",
       "    }\n",
       "\n",
       "    .dataframe tbody tr th {\n",
       "        vertical-align: top;\n",
       "    }\n",
       "\n",
       "    .dataframe thead th {\n",
       "        text-align: right;\n",
       "    }\n",
       "</style>\n",
       "<table border=\"1\" class=\"dataframe\">\n",
       "  <thead>\n",
       "    <tr style=\"text-align: right;\">\n",
       "      <th></th>\n",
       "      <th>URL</th>\n",
       "      <th>Response Text</th>\n",
       "    </tr>\n",
       "  </thead>\n",
       "  <tbody>\n",
       "    <tr>\n",
       "      <th>0</th>\n",
       "      <td>https://sellercentral.amazon.com/forums/t/unfo...</td>\n",
       "      <td>You need to get those thoughtful reps to refer...</td>\n",
       "    </tr>\n",
       "    <tr>\n",
       "      <th>1</th>\n",
       "      <td>https://sellercentral.amazon.com/forums/t/unfo...</td>\n",
       "      <td>Is there a specific department I should ask fo...</td>\n",
       "    </tr>\n",
       "    <tr>\n",
       "      <th>2</th>\n",
       "      <td>https://sellercentral.amazon.com/forums/t/unfo...</td>\n",
       "      <td>the_cosmetics You want to get somebody in cata...</td>\n",
       "    </tr>\n",
       "    <tr>\n",
       "      <th>0</th>\n",
       "      <td>https://sellercentral.amazon.com/forums/t/3-as...</td>\n",
       "      <td>Hello @Gajols, Pax here from Amazon. Gajols: O...</td>\n",
       "    </tr>\n",
       "    <tr>\n",
       "      <th>1</th>\n",
       "      <td>https://sellercentral.amazon.com/forums/t/3-as...</td>\n",
       "      <td>Hello Pax. Thank you for the answer. The last ...</td>\n",
       "    </tr>\n",
       "  </tbody>\n",
       "</table>\n",
       "</div>"
      ],
      "text/plain": [
       "                                                 URL  \\\n",
       "0  https://sellercentral.amazon.com/forums/t/unfo...   \n",
       "1  https://sellercentral.amazon.com/forums/t/unfo...   \n",
       "2  https://sellercentral.amazon.com/forums/t/unfo...   \n",
       "0  https://sellercentral.amazon.com/forums/t/3-as...   \n",
       "1  https://sellercentral.amazon.com/forums/t/3-as...   \n",
       "\n",
       "                                       Response Text  \n",
       "0  You need to get those thoughtful reps to refer...  \n",
       "1  Is there a specific department I should ask fo...  \n",
       "2  the_cosmetics You want to get somebody in cata...  \n",
       "0  Hello @Gajols, Pax here from Amazon. Gajols: O...  \n",
       "1  Hello Pax. Thank you for the answer. The last ...  "
      ]
     },
     "execution_count": 8,
     "metadata": {},
     "output_type": "execute_result"
    }
   ],
   "source": [
    "df_responses.head()"
   ]
  }
 ],
 "metadata": {
  "kernelspec": {
   "display_name": "Python 3",
   "language": "python",
   "name": "python3"
  },
  "language_info": {
   "codemirror_mode": {
    "name": "ipython",
    "version": 3
   },
   "file_extension": ".py",
   "mimetype": "text/x-python",
   "name": "python",
   "nbconvert_exporter": "python",
   "pygments_lexer": "ipython3",
   "version": "3.5.3"
  }
 },
 "nbformat": 4,
 "nbformat_minor": 4
}
