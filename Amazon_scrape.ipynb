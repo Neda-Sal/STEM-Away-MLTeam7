{
 "cells": [
  {
   "cell_type": "code",
   "execution_count": 1,
   "metadata": {},
   "outputs": [],
   "source": [
    "from selenium import webdriver\n",
    "import selenium\n",
    "from selenium.webdriver.common.keys import Keys\n",
    "import time\n",
    "import pandas as pd"
   ]
  },
  {
   "cell_type": "code",
   "execution_count": 9,
   "metadata": {},
   "outputs": [],
   "source": [
    "driver = webdriver.Chrome()\n",
    "driver.set_page_load_timeout(15)\n",
    "driver.get('https://sellercentral.amazon.com/forums/c/account-health')\n",
    "\n",
    "for i in range(30):\n",
    "    driver.execute_script(\"window.scrollTo(0, document.body.scrollHeight);\")\n",
    "    time.sleep(3)\n",
    "\n",
    "data = driver.find_elements_by_css_selector('a[class = \"title raw-link raw-topic-link\"]')\n",
    "titles = [x.text for x in data]\n",
    "links = [x.get_attribute('href') for x in data]\n",
    "\n",
    "data_subcat = driver.find_elements_by_css_selector('span[class = \"category-name\"]')\n",
    "sub_cats = [x.text for x in data_subcat[2:]]\n",
    "\n",
    "contents = []\n",
    "for link in links:\n",
    "    driver.get(link)\n",
    "    data = driver.find_elements_by_css_selector('div[class = \"cooked\"]')\n",
    "    content_tempo = [x.text.replace('\\n', ' ') for x in data]\n",
    "    contents.append(content_tempo)\n",
    "\n",
    "time.sleep(5)\n",
    "driver.quit()"
   ]
  },
  {
   "cell_type": "code",
   "execution_count": 10,
   "metadata": {},
   "outputs": [],
   "source": [
    "posts = []\n",
    "responses = []\n",
    "for line in contents:\n",
    "    posts.append(line[0])\n",
    "    responses.append(line[1:])"
   ]
  },
  {
   "cell_type": "code",
   "execution_count": 11,
   "metadata": {},
   "outputs": [],
   "source": [
    "def create_response_df(urls, resps):\n",
    "    column_names = ['URL', 'Response Text']\n",
    "    df_resps = pd.DataFrame(columns = column_names)\n",
    "    for url,line in zip(urls, resps):\n",
    "        n = len(line)\n",
    "        sub_urls = [url] * n\n",
    "        new_df = pd.DataFrame(list(zip(sub_urls, line)), columns = column_names)\n",
    "        df_resps = pd.concat([df_resps, new_df])\n",
    "    return df_resps"
   ]
  },
  {
   "cell_type": "code",
   "execution_count": 17,
   "metadata": {},
   "outputs": [],
   "source": [
    "DF1 = pd.DataFrame(titles, columns=['Title'])\n",
    "DF1['Category'] = 'Account Health'\n",
    "DF1['Sub-category'] = sub_cats\n",
    "DF1['Post Text'] = posts\n",
    "DF1['URL'] = links"
   ]
  },
  {
   "cell_type": "code",
   "execution_count": 18,
   "metadata": {},
   "outputs": [
    {
     "data": {
      "text/html": [
       "<div>\n",
       "<style scoped>\n",
       "    .dataframe tbody tr th:only-of-type {\n",
       "        vertical-align: middle;\n",
       "    }\n",
       "\n",
       "    .dataframe tbody tr th {\n",
       "        vertical-align: top;\n",
       "    }\n",
       "\n",
       "    .dataframe thead th {\n",
       "        text-align: right;\n",
       "    }\n",
       "</style>\n",
       "<table border=\"1\" class=\"dataframe\">\n",
       "  <thead>\n",
       "    <tr style=\"text-align: right;\">\n",
       "      <th></th>\n",
       "      <th>Title</th>\n",
       "      <th>Category</th>\n",
       "      <th>Sub-category</th>\n",
       "      <th>Post Text</th>\n",
       "      <th>URL</th>\n",
       "    </tr>\n",
       "  </thead>\n",
       "  <tbody>\n",
       "    <tr>\n",
       "      <th>0</th>\n",
       "      <td>Account Suspended After 5 years out of nowhere...</td>\n",
       "      <td>Account Health</td>\n",
       "      <td>Related Accounts</td>\n",
       "      <td>Our brand was suspended about 25 minutes ago. ...</td>\n",
       "      <td>https://sellercentral.amazon.com/forums/t/acco...</td>\n",
       "    </tr>\n",
       "    <tr>\n",
       "      <th>1</th>\n",
       "      <td>How to handle potential trademark misuse dings</td>\n",
       "      <td>Account Health</td>\n",
       "      <td>Intellectual Property</td>\n",
       "      <td>Hi. I got some potential trademark misuse in m...</td>\n",
       "      <td>https://sellercentral.amazon.com/forums/t/how-...</td>\n",
       "    </tr>\n",
       "    <tr>\n",
       "      <th>2</th>\n",
       "      <td>Unfounded Suspected IP Violations</td>\n",
       "      <td>Account Health</td>\n",
       "      <td>Intellectual Property</td>\n",
       "      <td>I had a listing removed by bot (not a complain...</td>\n",
       "      <td>https://sellercentral.amazon.com/forums/t/unfo...</td>\n",
       "    </tr>\n",
       "    <tr>\n",
       "      <th>3</th>\n",
       "      <td>3 Asin suspend - pls seller performance team a...</td>\n",
       "      <td>Account Health</td>\n",
       "      <td>Product Authenticity</td>\n",
       "      <td>Hi. It was the new account. I sent a total of ...</td>\n",
       "      <td>https://sellercentral.amazon.com/forums/t/3-as...</td>\n",
       "    </tr>\n",
       "    <tr>\n",
       "      <th>4</th>\n",
       "      <td>Amazon Covid 19 Bot Has Gotten Ridiculous</td>\n",
       "      <td>Account Health</td>\n",
       "      <td>Restricted Products</td>\n",
       "      <td>We have been selling dietary supplements on Am...</td>\n",
       "      <td>https://sellercentral.amazon.com/forums/t/amaz...</td>\n",
       "    </tr>\n",
       "  </tbody>\n",
       "</table>\n",
       "</div>"
      ],
      "text/plain": [
       "                                               Title        Category  \\\n",
       "0  Account Suspended After 5 years out of nowhere...  Account Health   \n",
       "1     How to handle potential trademark misuse dings  Account Health   \n",
       "2                  Unfounded Suspected IP Violations  Account Health   \n",
       "3  3 Asin suspend - pls seller performance team a...  Account Health   \n",
       "4          Amazon Covid 19 Bot Has Gotten Ridiculous  Account Health   \n",
       "\n",
       "            Sub-category                                          Post Text  \\\n",
       "0       Related Accounts  Our brand was suspended about 25 minutes ago. ...   \n",
       "1  Intellectual Property  Hi. I got some potential trademark misuse in m...   \n",
       "2  Intellectual Property  I had a listing removed by bot (not a complain...   \n",
       "3   Product Authenticity  Hi. It was the new account. I sent a total of ...   \n",
       "4    Restricted Products  We have been selling dietary supplements on Am...   \n",
       "\n",
       "                                                 URL  \n",
       "0  https://sellercentral.amazon.com/forums/t/acco...  \n",
       "1  https://sellercentral.amazon.com/forums/t/how-...  \n",
       "2  https://sellercentral.amazon.com/forums/t/unfo...  \n",
       "3  https://sellercentral.amazon.com/forums/t/3-as...  \n",
       "4  https://sellercentral.amazon.com/forums/t/amaz...  "
      ]
     },
     "execution_count": 18,
     "metadata": {},
     "output_type": "execute_result"
    }
   ],
   "source": [
    "DF1.head()"
   ]
  },
  {
   "cell_type": "code",
   "execution_count": 19,
   "metadata": {},
   "outputs": [],
   "source": [
    "DF2 = create_response_df(links, responses)"
   ]
  },
  {
   "cell_type": "code",
   "execution_count": 20,
   "metadata": {},
   "outputs": [
    {
     "data": {
      "text/html": [
       "<div>\n",
       "<style scoped>\n",
       "    .dataframe tbody tr th:only-of-type {\n",
       "        vertical-align: middle;\n",
       "    }\n",
       "\n",
       "    .dataframe tbody tr th {\n",
       "        vertical-align: top;\n",
       "    }\n",
       "\n",
       "    .dataframe thead th {\n",
       "        text-align: right;\n",
       "    }\n",
       "</style>\n",
       "<table border=\"1\" class=\"dataframe\">\n",
       "  <thead>\n",
       "    <tr style=\"text-align: right;\">\n",
       "      <th></th>\n",
       "      <th>URL</th>\n",
       "      <th>Response Text</th>\n",
       "    </tr>\n",
       "  </thead>\n",
       "  <tbody>\n",
       "    <tr>\n",
       "      <th>0</th>\n",
       "      <td>https://sellercentral.amazon.com/forums/t/acco...</td>\n",
       "      <td>Do you have any other accounts using your addr...</td>\n",
       "    </tr>\n",
       "    <tr>\n",
       "      <th>1</th>\n",
       "      <td>https://sellercentral.amazon.com/forums/t/acco...</td>\n",
       "      <td>Have the same issue here. Account was deactiva...</td>\n",
       "    </tr>\n",
       "    <tr>\n",
       "      <th>2</th>\n",
       "      <td>https://sellercentral.amazon.com/forums/t/acco...</td>\n",
       "      <td>We just got suspended too for the same reason....</td>\n",
       "    </tr>\n",
       "    <tr>\n",
       "      <th>3</th>\n",
       "      <td>https://sellercentral.amazon.com/forums/t/acco...</td>\n",
       "      <td>Not at all, there’s only 1 Amazon account.</td>\n",
       "    </tr>\n",
       "    <tr>\n",
       "      <th>4</th>\n",
       "      <td>https://sellercentral.amazon.com/forums/t/acco...</td>\n",
       "      <td>That’s exactly our problem, how the hell are w...</td>\n",
       "    </tr>\n",
       "  </tbody>\n",
       "</table>\n",
       "</div>"
      ],
      "text/plain": [
       "                                                 URL  \\\n",
       "0  https://sellercentral.amazon.com/forums/t/acco...   \n",
       "1  https://sellercentral.amazon.com/forums/t/acco...   \n",
       "2  https://sellercentral.amazon.com/forums/t/acco...   \n",
       "3  https://sellercentral.amazon.com/forums/t/acco...   \n",
       "4  https://sellercentral.amazon.com/forums/t/acco...   \n",
       "\n",
       "                                       Response Text  \n",
       "0  Do you have any other accounts using your addr...  \n",
       "1  Have the same issue here. Account was deactiva...  \n",
       "2  We just got suspended too for the same reason....  \n",
       "3         Not at all, there’s only 1 Amazon account.  \n",
       "4  That’s exactly our problem, how the hell are w...  "
      ]
     },
     "execution_count": 20,
     "metadata": {},
     "output_type": "execute_result"
    }
   ],
   "source": [
    "DF2.head()"
   ]
  },
  {
   "cell_type": "code",
   "execution_count": 21,
   "metadata": {},
   "outputs": [
    {
     "data": {
      "text/plain": [
       "(900, 5)"
      ]
     },
     "execution_count": 21,
     "metadata": {},
     "output_type": "execute_result"
    }
   ],
   "source": [
    "DF1.shape"
   ]
  },
  {
   "cell_type": "code",
   "execution_count": 25,
   "metadata": {},
   "outputs": [],
   "source": [
    "DF1.to_csv('Data/DF1.csv', index = False)\n",
    "DF2.to_csv('Data/DF2.csv', index = False)"
   ]
  },
  {
   "cell_type": "code",
   "execution_count": null,
   "metadata": {},
   "outputs": [],
   "source": []
  }
 ],
 "metadata": {
  "kernelspec": {
   "display_name": "Python 3",
   "language": "python",
   "name": "python3"
  },
  "language_info": {
   "codemirror_mode": {
    "name": "ipython",
    "version": 3
   },
   "file_extension": ".py",
   "mimetype": "text/x-python",
   "name": "python",
   "nbconvert_exporter": "python",
   "pygments_lexer": "ipython3",
   "version": "3.5.3"
  }
 },
 "nbformat": 4,
 "nbformat_minor": 4
}
