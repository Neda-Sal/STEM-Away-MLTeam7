{
 "cells": [
  {
   "cell_type": "code",
   "execution_count": 1,
   "metadata": {},
   "outputs": [],
   "source": [
    "from selenium import webdriver\n",
    "import selenium\n",
    "from selenium.webdriver.common.keys import Keys\n",
    "import time\n",
    "import pandas as pd"
   ]
  },
  {
   "cell_type": "code",
   "execution_count": 14,
   "metadata": {},
   "outputs": [],
   "source": [
    "driver = webdriver.Chrome()\n",
    "driver.set_page_load_timeout(15)\n",
    "driver.get('https://sellercentral.amazon.com/forums/c/account-health')\n",
    "\n",
    "for i in range(0,3):\n",
    "    driver.execute_script(\"window.scrollTo(0, document.body.scrollHeight);\")\n",
    "    time.sleep(3)\n",
    "\n",
    "data = driver.find_elements_by_css_selector('a[class = \"title raw-link raw-topic-link\"]')\n",
    "titles = [x.text for x in data]\n",
    "links = [x.get_attribute('href') for x in data]\n",
    "\n",
    "data_subcat = driver.find_elements_by_css_selector('span[class = \"category-name\"]')\n",
    "sub_cats = [x.text for x in data_subcat[2:]]\n",
    "\n",
    "contents = []\n",
    "for link in links:\n",
    "    driver.get(link)\n",
    "    contents.append(driver.find_elements_by_css_selector('div[class = \"cooked\"]'))\n",
    "time.sleep(5)\n",
    "driver.quit()"
   ]
  },
  {
   "cell_type": "code",
   "execution_count": 16,
   "metadata": {},
   "outputs": [],
   "source": [
    "df = pd.DataFrame(titles, columns=['titles'])\n",
    "df['category'] = 'Account Health'\n",
    "df['sub category'] = sub_cats\n",
    "df['links'] = links\n",
    "df['contents'] = contents"
   ]
  },
  {
   "cell_type": "code",
   "execution_count": null,
   "metadata": {},
   "outputs": [],
   "source": []
  }
 ],
 "metadata": {
  "kernelspec": {
   "display_name": "Python 3",
   "language": "python",
   "name": "python3"
  },
  "language_info": {
   "codemirror_mode": {
    "name": "ipython",
    "version": 3
   },
   "file_extension": ".py",
   "mimetype": "text/x-python",
   "name": "python",
   "nbconvert_exporter": "python",
   "pygments_lexer": "ipython3",
   "version": "3.5.3"
  }
 },
 "nbformat": 4,
 "nbformat_minor": 4
}
